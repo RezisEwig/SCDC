{
 "cells": [
  {
   "cell_type": "code",
   "execution_count": 1,
   "metadata": {},
   "outputs": [
    {
     "name": "stderr",
     "output_type": "stream",
     "text": [
      "Using TensorFlow backend.\n"
     ]
    }
   ],
   "source": [
    "import tensorflow as tf\n",
    "import keras\n",
    "import numpy as np\n",
    "import pandas as pd\n",
    "import os.path\n",
    "from sklearn import metrics\n",
    "from sklearn.metrics import roc_curve, auc, roc_auc_score\n",
    "from sklearn.model_selection import train_test_split , StratifiedKFold\n",
    "from keras.callbacks import Callback\n",
    "from keras.callbacks import EarlyStopping, ModelCheckpoint, ReduceLROnPlateau\n",
    "from sklearn.preprocessing import LabelBinarizer\n",
    "from sklearn.preprocessing import LabelEncoder\n",
    "from sklearn.neighbors import NearestNeighbors\n",
    "import random\n",
    "from iterstrat.ml_stratifiers import MultilabelStratifiedKFold\n",
    "\n",
    "from scipy import interp\n",
    "import matplotlib.pyplot as plt"
   ]
  },
  {
   "cell_type": "code",
   "execution_count": 2,
   "metadata": {},
   "outputs": [],
   "source": [
    "#train_x_name = \"preprocess/train_preprocess.csv\"\n",
    "val_x_name = \"preprocess/val_preprocess.csv\"\n",
    "#train_y_name = \"preprocess/en_train_y.csv\"\n",
    "val_y_name = \"preprocess/en_val_y.csv\"\n",
    "train_x_name = \"x_train2.csv\"\n",
    "train_y_name = \"y_train2.csv\""
   ]
  },
  {
   "cell_type": "code",
   "execution_count": 3,
   "metadata": {},
   "outputs": [
    {
     "name": "stdout",
     "output_type": "stream",
     "text": [
      "<class 'pandas.core.frame.DataFrame'>\n",
      "RangeIndex: 654948 entries, 0 to 654947\n",
      "Columns: 227 entries, cst_id_di to VAR227\n",
      "dtypes: float64(226), int64(1)\n",
      "memory usage: 1.1 GB\n"
     ]
    }
   ],
   "source": [
    "raw_dataframe = pd.read_csv(train_x_name) #판다스이용 csv파일 로딩\n",
    "raw_dataframe.info() # 데이터 정보 출력\n",
    "del raw_dataframe['cst_id_di'] # 첫째열와 행 제거\n",
    "x_train = raw_dataframe"
   ]
  },
  {
   "cell_type": "code",
   "execution_count": 4,
   "metadata": {},
   "outputs": [
    {
     "name": "stdout",
     "output_type": "stream",
     "text": [
      "<class 'pandas.core.frame.DataFrame'>\n",
      "RangeIndex: 28543 entries, 0 to 28542\n",
      "Columns: 227 entries, cst_id_di to VAR227\n",
      "dtypes: float64(198), int64(29)\n",
      "memory usage: 49.4 MB\n"
     ]
    }
   ],
   "source": [
    "raw_dataframe = pd.read_csv(val_x_name) #판다스이용 csv파일 로딩\n",
    "raw_dataframe.info() # 데이터 정보 출력\n",
    "del raw_dataframe['cst_id_di'] # 첫째열와 행 제거\n",
    "x_valid = raw_dataframe"
   ]
  },
  {
   "cell_type": "code",
   "execution_count": 5,
   "metadata": {},
   "outputs": [
    {
     "name": "stdout",
     "output_type": "stream",
     "text": [
      "<class 'pandas.core.frame.DataFrame'>\n",
      "RangeIndex: 654948 entries, 0 to 654947\n",
      "Data columns (total 12 columns):\n",
      " #   Column        Non-Null Count   Dtype\n",
      "---  ------        --------------   -----\n",
      " 0   cst_id_di     654948 non-null  int64\n",
      " 1   MRC_ID_DI_0   654948 non-null  int64\n",
      " 2   MRC_ID_DI_1   654948 non-null  int64\n",
      " 3   MRC_ID_DI_2   654948 non-null  int64\n",
      " 4   MRC_ID_DI_3   654948 non-null  int64\n",
      " 5   MRC_ID_DI_4   654948 non-null  int64\n",
      " 6   MRC_ID_DI_5   654948 non-null  int64\n",
      " 7   MRC_ID_DI_6   654948 non-null  int64\n",
      " 8   MRC_ID_DI_7   654948 non-null  int64\n",
      " 9   MRC_ID_DI_8   654948 non-null  int64\n",
      " 10  MRC_ID_DI_9   654948 non-null  int64\n",
      " 11  MRC_ID_DI_10  654948 non-null  int64\n",
      "dtypes: int64(12)\n",
      "memory usage: 60.0 MB\n"
     ]
    }
   ],
   "source": [
    "raw_dataframe = pd.read_csv(train_y_name) #판다스이용 csv파일 로딩\n",
    "raw_dataframe.info() # 데이터 정보 출력\n",
    "del raw_dataframe['cst_id_di'] # 첫째열와 행 제거\n",
    "y_train = raw_dataframe"
   ]
  },
  {
   "cell_type": "code",
   "execution_count": 7,
   "metadata": {},
   "outputs": [
    {
     "data": {
      "text/plain": [
       "(464180, 11)"
      ]
     },
     "execution_count": 7,
     "metadata": {},
     "output_type": "execute_result"
    }
   ],
   "source": [
    "y_train[y_train['MRC_ID_DI_0']==0].shape"
   ]
  },
  {
   "cell_type": "code",
   "execution_count": 8,
   "metadata": {},
   "outputs": [
    {
     "data": {
      "text/plain": [
       "MRC_ID_DI_0     170768\n",
       "MRC_ID_DI_1     131976\n",
       "MRC_ID_DI_2     157748\n",
       "MRC_ID_DI_3     226710\n",
       "MRC_ID_DI_4     133896\n",
       "MRC_ID_DI_5     164653\n",
       "MRC_ID_DI_6     159611\n",
       "MRC_ID_DI_7     157987\n",
       "MRC_ID_DI_8     229446\n",
       "MRC_ID_DI_9      97144\n",
       "MRC_ID_DI_10    198162\n",
       "dtype: int64"
      ]
     },
     "execution_count": 8,
     "metadata": {},
     "output_type": "execute_result"
    }
   ],
   "source": [
    "y_train.iloc[:,:].sum(axis=0)"
   ]
  },
  {
   "cell_type": "code",
   "execution_count": 11,
   "metadata": {},
   "outputs": [
    {
     "data": {
      "text/plain": [
       "<AxesSubplot:>"
      ]
     },
     "execution_count": 11,
     "metadata": {},
     "output_type": "execute_result"
    },
    {
     "data": {
      "image/png": "[encoded data removed]",
      "text/plain": [
       "<Figure size 432x288 with 1 Axes>"
      ]
     },
     "metadata": {
      "needs_background": "light"
     },
     "output_type": "display_data"
    }
   ],
   "source": [
    "y_train.iloc[:,:].sum(axis=0).plot.bar()"
   ]
  },
  {
   "cell_type": "code",
   "execution_count": 6,
   "metadata": {
    "scrolled": false
   },
   "outputs": [
    {
     "name": "stdout",
     "output_type": "stream",
     "text": [
      "<class 'pandas.core.frame.DataFrame'>\n",
      "RangeIndex: 28543 entries, 0 to 28542\n",
      "Data columns (total 12 columns):\n",
      " #   Column        Non-Null Count  Dtype\n",
      "---  ------        --------------  -----\n",
      " 0   cst_id_di     28543 non-null  int64\n",
      " 1   MRC_ID_DI_0   28543 non-null  int64\n",
      " 2   MRC_ID_DI_1   28543 non-null  int64\n",
      " 3   MRC_ID_DI_2   28543 non-null  int64\n",
      " 4   MRC_ID_DI_3   28543 non-null  int64\n",
      " 5   MRC_ID_DI_4   28543 non-null  int64\n",
      " 6   MRC_ID_DI_5   28543 non-null  int64\n",
      " 7   MRC_ID_DI_6   28543 non-null  int64\n",
      " 8   MRC_ID_DI_7   28543 non-null  int64\n",
      " 9   MRC_ID_DI_8   28543 non-null  int64\n",
      " 10  MRC_ID_DI_9   28543 non-null  int64\n",
      " 11  MRC_ID_DI_10  28543 non-null  int64\n",
      "dtypes: int64(12)\n",
      "memory usage: 2.6 MB\n"
     ]
    }
   ],
   "source": [
    "raw_dataframe = pd.read_csv(val_y_name) #판다스이용 csv파일 로딩\n",
    "raw_dataframe.info() # 데이터 정보 출력\n",
    "del raw_dataframe['cst_id_di'] # 첫째열와 행 제거\n",
    "y_valid = raw_dataframe"
   ]
  },
  {
   "cell_type": "code",
   "execution_count": 10,
   "metadata": {},
   "outputs": [
    {
     "data": {
      "text/plain": [
       "MRC_ID_DI_0     19236\n",
       "MRC_ID_DI_1       405\n",
       "MRC_ID_DI_2        65\n",
       "MRC_ID_DI_3       141\n",
       "MRC_ID_DI_4        50\n",
       "MRC_ID_DI_5       697\n",
       "MRC_ID_DI_6      2695\n",
       "MRC_ID_DI_7      3220\n",
       "MRC_ID_DI_8      1630\n",
       "MRC_ID_DI_9       288\n",
       "MRC_ID_DI_10      135\n",
       "dtype: int64"
      ]
     },
     "execution_count": 10,
     "metadata": {},
     "output_type": "execute_result"
    }
   ],
   "source": [
    "y_valid.iloc[:,:].sum(axis=0)"
   ]
  },
  {
   "cell_type": "code",
   "execution_count": 11,
   "metadata": {},
   "outputs": [
    {
     "data": {
      "text/plain": [
       "<matplotlib.axes._subplots.AxesSubplot at 0x1fe6e5a4e48>"
      ]
     },
     "execution_count": 11,
     "metadata": {},
     "output_type": "execute_result"
    },
    {
     "data": {
      "image/png": "[encoded data removed]",
      "text/plain": [
       "<Figure size 432x288 with 1 Axes>"
      ]
     },
     "metadata": {
      "needs_background": "light"
     },
     "output_type": "display_data"
    }
   ],
   "source": [
    "y_valid.iloc[:,:].sum(axis=0).plot.bar()"
   ]
  },
  {
   "cell_type": "code",
   "execution_count": 16,
   "metadata": {},
   "outputs": [],
   "source": [
    "def get_tail_label(df: pd.DataFrame, ql=[0.05, 1.]) -> list:\n",
    "    \"\"\"\n",
    "    Find the underrepresented targets.\n",
    "    Underrepresented targets are those which are observed less than the median occurance.\n",
    "    Targets beyond a quantile limit are filtered.\n",
    "    \"\"\"\n",
    "    irlbl = df.sum(axis=0)\n",
    "    irlbl = irlbl[(irlbl > irlbl.quantile(ql[0])) & ((irlbl < irlbl.quantile(ql[1])))]  # Filtering\n",
    "    irlbl = irlbl.max() / irlbl\n",
    "    threshold_irlbl = irlbl.median()\n",
    "    tail_label = irlbl[irlbl > threshold_irlbl].index.tolist()\n",
    "    return tail_label\n",
    "\n",
    "def get_minority_samples(X: pd.DataFrame, y: pd.DataFrame, ql=[0.05, 1.]):\n",
    "    \"\"\"\n",
    "    return\n",
    "    X_sub: pandas.DataFrame, the feature vector minority dataframe\n",
    "    y_sub: pandas.DataFrame, the target vector minority dataframe\n",
    "    \"\"\"\n",
    "    tail_labels = get_tail_label(y, ql=ql)\n",
    "    index = y[y[tail_labels].apply(lambda x: (x == 1).any(), axis=1)].index.tolist()\n",
    "    \n",
    "    X_sub = X[X.index.isin(index)].reset_index(drop = True)\n",
    "    y_sub = y[y.index.isin(index)].reset_index(drop = True)\n",
    "    return X_sub, y_sub\n",
    "\n",
    "def nearest_neighbour(X: pd.DataFrame, neigh) -> list:\n",
    "    \"\"\"\n",
    "    Give index of 10 nearest neighbor of all the instance\n",
    "    \n",
    "    args\n",
    "    X: np.array, array whose nearest neighbor has to find\n",
    "    \n",
    "    return\n",
    "    indices: list of list, index of 5 NN of each element in X\n",
    "    \"\"\"\n",
    "    nbs = NearestNeighbors(n_neighbors=neigh, metric='euclidean', algorithm='kd_tree').fit(X)\n",
    "    euclidean, indices = nbs.kneighbors(X)\n",
    "    return indices\n",
    "\n",
    "def MLSMOTE(X, y, n_sample, neigh=5):\n",
    "    \"\"\"\n",
    "    Give the augmented data using MLSMOTE algorithm\n",
    "    \n",
    "    args\n",
    "    X: pandas.DataFrame, input vector DataFrame\n",
    "    y: pandas.DataFrame, feature vector dataframe\n",
    "    n_sample: int, number of newly generated sample\n",
    "    \n",
    "    return\n",
    "    new_X: pandas.DataFrame, augmented feature vector data\n",
    "    target: pandas.DataFrame, augmented target vector data\n",
    "    \"\"\"\n",
    "    indices2 = nearest_neighbour(X, neigh=5)\n",
    "    n = len(indices2)\n",
    "    new_X = np.zeros((n_sample, X.shape[1]))\n",
    "    target = np.zeros((n_sample, y.shape[1]))\n",
    "    for i in range(n_sample):\n",
    "        reference = random.randint(0, n-1)\n",
    "        neighbor = random.choice(indices2[reference, 1:])\n",
    "        all_point = indices2[reference]\n",
    "        nn_df = y[y.index.isin(all_point)]\n",
    "        ser = nn_df.sum(axis = 0, skipna = True)\n",
    "        target[i] = np.array([1 if val > 0 else 0 for val in ser])\n",
    "        ratio = random.random()\n",
    "        gap = X.loc[reference,:] - X.loc[neighbor,:]\n",
    "        new_X[i] = np.array(X.loc[reference,:] + ratio * gap)\n",
    "    new_X = pd.DataFrame(new_X, columns=X.columns)\n",
    "    target = pd.DataFrame(target, columns=y.columns)\n",
    "    return new_X, target"
   ]
  },
  {
   "cell_type": "code",
   "execution_count": 17,
   "metadata": {},
   "outputs": [
    {
     "data": {
      "text/plain": [
       "(484180, 11)"
      ]
     },
     "execution_count": 17,
     "metadata": {},
     "output_type": "execute_result"
    }
   ],
   "source": [
    "y_train[y_train['MRC_ID_DI_0']==0].shape"
   ]
  },
  {
   "cell_type": "code",
   "execution_count": 18,
   "metadata": {},
   "outputs": [
    {
     "data": {
      "text/plain": [
       "(484180, 226)"
      ]
     },
     "execution_count": 18,
     "metadata": {},
     "output_type": "execute_result"
    }
   ],
   "source": [
    "x_train[y_train['MRC_ID_DI_0']==0].shape"
   ]
  },
  {
   "cell_type": "code",
   "execution_count": 19,
   "metadata": {},
   "outputs": [
    {
     "ename": "KeyboardInterrupt",
     "evalue": "",
     "output_type": "error",
     "traceback": [
      "\u001b[1;31m---------------------------------------------------------------------------\u001b[0m",
      "\u001b[1;31mKeyboardInterrupt\u001b[0m                         Traceback (most recent call last)",
      "\u001b[1;32m<ipython-input-19-8317b1f26d06>\u001b[0m in \u001b[0;36m<module>\u001b[1;34m\u001b[0m\n\u001b[0;32m      1\u001b[0m \u001b[1;32mfor\u001b[0m \u001b[0mi\u001b[0m \u001b[1;32min\u001b[0m \u001b[0mrange\u001b[0m\u001b[1;33m(\u001b[0m\u001b[1;36m100\u001b[0m\u001b[1;33m)\u001b[0m\u001b[1;33m:\u001b[0m\u001b[1;33m\u001b[0m\u001b[1;33m\u001b[0m\u001b[0m\n\u001b[1;32m----> 2\u001b[1;33m     \u001b[0mX_sub\u001b[0m\u001b[1;33m,\u001b[0m \u001b[0my_sub\u001b[0m \u001b[1;33m=\u001b[0m \u001b[0mget_minority_samples\u001b[0m\u001b[1;33m(\u001b[0m\u001b[0mx_train\u001b[0m\u001b[1;33m[\u001b[0m\u001b[0my_train\u001b[0m\u001b[1;33m[\u001b[0m\u001b[1;34m'MRC_ID_DI_0'\u001b[0m\u001b[1;33m]\u001b[0m\u001b[1;33m==\u001b[0m\u001b[1;36m0\u001b[0m\u001b[1;33m]\u001b[0m\u001b[1;33m,\u001b[0m \u001b[0my_train\u001b[0m\u001b[1;33m[\u001b[0m\u001b[0my_train\u001b[0m\u001b[1;33m[\u001b[0m\u001b[1;34m'MRC_ID_DI_0'\u001b[0m\u001b[1;33m]\u001b[0m\u001b[1;33m==\u001b[0m\u001b[1;36m0\u001b[0m\u001b[1;33m]\u001b[0m\u001b[1;33m)\u001b[0m  \u001b[1;31m# Getting minority samples of that datframe\u001b[0m\u001b[1;33m\u001b[0m\u001b[1;33m\u001b[0m\u001b[0m\n\u001b[0m\u001b[0;32m      3\u001b[0m     \u001b[0mX_res\u001b[0m\u001b[1;33m,\u001b[0m \u001b[0my_res\u001b[0m \u001b[1;33m=\u001b[0m \u001b[0mMLSMOTE\u001b[0m\u001b[1;33m(\u001b[0m\u001b[0mX_sub\u001b[0m\u001b[1;33m,\u001b[0m \u001b[0my_sub\u001b[0m\u001b[1;33m,\u001b[0m \u001b[1;36m2000\u001b[0m\u001b[1;33m,\u001b[0m \u001b[1;36m5\u001b[0m\u001b[1;33m)\u001b[0m  \u001b[1;31m# Applying MLSMOTE to augment the dataframe\u001b[0m\u001b[1;33m\u001b[0m\u001b[1;33m\u001b[0m\u001b[0m\n\u001b[0;32m      4\u001b[0m     \u001b[0mx_train\u001b[0m \u001b[1;33m=\u001b[0m \u001b[0mpd\u001b[0m\u001b[1;33m.\u001b[0m\u001b[0mconcat\u001b[0m\u001b[1;33m(\u001b[0m\u001b[1;33m[\u001b[0m\u001b[0mx_train\u001b[0m\u001b[1;33m,\u001b[0m \u001b[0mX_res\u001b[0m\u001b[1;33m]\u001b[0m\u001b[1;33m,\u001b[0m \u001b[0maxis\u001b[0m\u001b[1;33m=\u001b[0m\u001b[1;36m0\u001b[0m\u001b[1;33m)\u001b[0m\u001b[1;33m\u001b[0m\u001b[1;33m\u001b[0m\u001b[0m\n\u001b[0;32m      5\u001b[0m     \u001b[0my_train\u001b[0m \u001b[1;33m=\u001b[0m \u001b[0mpd\u001b[0m\u001b[1;33m.\u001b[0m\u001b[0mconcat\u001b[0m\u001b[1;33m(\u001b[0m\u001b[1;33m[\u001b[0m\u001b[0my_train\u001b[0m\u001b[1;33m,\u001b[0m \u001b[0my_res\u001b[0m\u001b[1;33m]\u001b[0m\u001b[1;33m,\u001b[0m \u001b[0maxis\u001b[0m\u001b[1;33m=\u001b[0m\u001b[1;36m0\u001b[0m\u001b[1;33m)\u001b[0m\u001b[1;33m\u001b[0m\u001b[1;33m\u001b[0m\u001b[0m\n",
      "\u001b[1;32m<ipython-input-16-7e0282477868>\u001b[0m in \u001b[0;36mget_minority_samples\u001b[1;34m(X, y, ql)\u001b[0m\n\u001b[0;32m     19\u001b[0m     \"\"\"\n\u001b[0;32m     20\u001b[0m     \u001b[0mtail_labels\u001b[0m \u001b[1;33m=\u001b[0m \u001b[0mget_tail_label\u001b[0m\u001b[1;33m(\u001b[0m\u001b[0my\u001b[0m\u001b[1;33m,\u001b[0m \u001b[0mql\u001b[0m\u001b[1;33m=\u001b[0m\u001b[0mql\u001b[0m\u001b[1;33m)\u001b[0m\u001b[1;33m\u001b[0m\u001b[1;33m\u001b[0m\u001b[0m\n\u001b[1;32m---> 21\u001b[1;33m     \u001b[0mindex\u001b[0m \u001b[1;33m=\u001b[0m \u001b[0my\u001b[0m\u001b[1;33m[\u001b[0m\u001b[0my\u001b[0m\u001b[1;33m[\u001b[0m\u001b[0mtail_labels\u001b[0m\u001b[1;33m]\u001b[0m\u001b[1;33m.\u001b[0m\u001b[0mapply\u001b[0m\u001b[1;33m(\u001b[0m\u001b[1;32mlambda\u001b[0m \u001b[0mx\u001b[0m\u001b[1;33m:\u001b[0m \u001b[1;33m(\u001b[0m\u001b[0mx\u001b[0m \u001b[1;33m==\u001b[0m \u001b[1;36m1\u001b[0m\u001b[1;33m)\u001b[0m\u001b[1;33m.\u001b[0m\u001b[0many\u001b[0m\u001b[1;33m(\u001b[0m\u001b[1;33m)\u001b[0m\u001b[1;33m,\u001b[0m \u001b[0maxis\u001b[0m\u001b[1;33m=\u001b[0m\u001b[1;36m1\u001b[0m\u001b[1;33m)\u001b[0m\u001b[1;33m]\u001b[0m\u001b[1;33m.\u001b[0m\u001b[0mindex\u001b[0m\u001b[1;33m.\u001b[0m\u001b[0mtolist\u001b[0m\u001b[1;33m(\u001b[0m\u001b[1;33m)\u001b[0m\u001b[1;33m\u001b[0m\u001b[1;33m\u001b[0m\u001b[0m\n\u001b[0m\u001b[0;32m     22\u001b[0m \u001b[1;33m\u001b[0m\u001b[0m\n\u001b[0;32m     23\u001b[0m     \u001b[0mX_sub\u001b[0m \u001b[1;33m=\u001b[0m \u001b[0mX\u001b[0m\u001b[1;33m[\u001b[0m\u001b[0mX\u001b[0m\u001b[1;33m.\u001b[0m\u001b[0mindex\u001b[0m\u001b[1;33m.\u001b[0m\u001b[0misin\u001b[0m\u001b[1;33m(\u001b[0m\u001b[0mindex\u001b[0m\u001b[1;33m)\u001b[0m\u001b[1;33m]\u001b[0m\u001b[1;33m.\u001b[0m\u001b[0mreset_index\u001b[0m\u001b[1;33m(\u001b[0m\u001b[0mdrop\u001b[0m \u001b[1;33m=\u001b[0m \u001b[1;32mTrue\u001b[0m\u001b[1;33m)\u001b[0m\u001b[1;33m\u001b[0m\u001b[1;33m\u001b[0m\u001b[0m\n",
      "\u001b[1;32m~\\anaconda3\\envs\\SCDC2\\lib\\site-packages\\pandas\\core\\frame.py\u001b[0m in \u001b[0;36mapply\u001b[1;34m(self, func, axis, broadcast, raw, reduce, result_type, args, **kwds)\u001b[0m\n\u001b[0;32m   6926\u001b[0m             \u001b[0mkwds\u001b[0m\u001b[1;33m=\u001b[0m\u001b[0mkwds\u001b[0m\u001b[1;33m,\u001b[0m\u001b[1;33m\u001b[0m\u001b[1;33m\u001b[0m\u001b[0m\n\u001b[0;32m   6927\u001b[0m         )\n\u001b[1;32m-> 6928\u001b[1;33m         \u001b[1;32mreturn\u001b[0m \u001b[0mop\u001b[0m\u001b[1;33m.\u001b[0m\u001b[0mget_result\u001b[0m\u001b[1;33m(\u001b[0m\u001b[1;33m)\u001b[0m\u001b[1;33m\u001b[0m\u001b[1;33m\u001b[0m\u001b[0m\n\u001b[0m\u001b[0;32m   6929\u001b[0m \u001b[1;33m\u001b[0m\u001b[0m\n\u001b[0;32m   6930\u001b[0m     \u001b[1;32mdef\u001b[0m \u001b[0mapplymap\u001b[0m\u001b[1;33m(\u001b[0m\u001b[0mself\u001b[0m\u001b[1;33m,\u001b[0m \u001b[0mfunc\u001b[0m\u001b[1;33m)\u001b[0m\u001b[1;33m:\u001b[0m\u001b[1;33m\u001b[0m\u001b[1;33m\u001b[0m\u001b[0m\n",
      "\u001b[1;32m~\\anaconda3\\envs\\SCDC2\\lib\\site-packages\\pandas\\core\\apply.py\u001b[0m in \u001b[0;36mget_result\u001b[1;34m(self)\u001b[0m\n\u001b[0;32m    184\u001b[0m             \u001b[1;32mreturn\u001b[0m \u001b[0mself\u001b[0m\u001b[1;33m.\u001b[0m\u001b[0mapply_raw\u001b[0m\u001b[1;33m(\u001b[0m\u001b[1;33m)\u001b[0m\u001b[1;33m\u001b[0m\u001b[1;33m\u001b[0m\u001b[0m\n\u001b[0;32m    185\u001b[0m \u001b[1;33m\u001b[0m\u001b[0m\n\u001b[1;32m--> 186\u001b[1;33m         \u001b[1;32mreturn\u001b[0m \u001b[0mself\u001b[0m\u001b[1;33m.\u001b[0m\u001b[0mapply_standard\u001b[0m\u001b[1;33m(\u001b[0m\u001b[1;33m)\u001b[0m\u001b[1;33m\u001b[0m\u001b[1;33m\u001b[0m\u001b[0m\n\u001b[0m\u001b[0;32m    187\u001b[0m \u001b[1;33m\u001b[0m\u001b[0m\n\u001b[0;32m    188\u001b[0m     \u001b[1;32mdef\u001b[0m \u001b[0mapply_empty_result\u001b[0m\u001b[1;33m(\u001b[0m\u001b[0mself\u001b[0m\u001b[1;33m)\u001b[0m\u001b[1;33m:\u001b[0m\u001b[1;33m\u001b[0m\u001b[1;33m\u001b[0m\u001b[0m\n",
      "\u001b[1;32m~\\anaconda3\\envs\\SCDC2\\lib\\site-packages\\pandas\\core\\apply.py\u001b[0m in \u001b[0;36mapply_standard\u001b[1;34m(self)\u001b[0m\n\u001b[0;32m    283\u001b[0m             \u001b[1;32mtry\u001b[0m\u001b[1;33m:\u001b[0m\u001b[1;33m\u001b[0m\u001b[1;33m\u001b[0m\u001b[0m\n\u001b[0;32m    284\u001b[0m                 result = reduction.reduce(\n\u001b[1;32m--> 285\u001b[1;33m                     \u001b[0mvalues\u001b[0m\u001b[1;33m,\u001b[0m \u001b[0mself\u001b[0m\u001b[1;33m.\u001b[0m\u001b[0mf\u001b[0m\u001b[1;33m,\u001b[0m \u001b[0maxis\u001b[0m\u001b[1;33m=\u001b[0m\u001b[0mself\u001b[0m\u001b[1;33m.\u001b[0m\u001b[0maxis\u001b[0m\u001b[1;33m,\u001b[0m \u001b[0mdummy\u001b[0m\u001b[1;33m=\u001b[0m\u001b[0mdummy\u001b[0m\u001b[1;33m,\u001b[0m \u001b[0mlabels\u001b[0m\u001b[1;33m=\u001b[0m\u001b[0mlabels\u001b[0m\u001b[1;33m\u001b[0m\u001b[1;33m\u001b[0m\u001b[0m\n\u001b[0m\u001b[0;32m    286\u001b[0m                 )\n\u001b[0;32m    287\u001b[0m                 \u001b[1;32mreturn\u001b[0m \u001b[0mself\u001b[0m\u001b[1;33m.\u001b[0m\u001b[0mobj\u001b[0m\u001b[1;33m.\u001b[0m\u001b[0m_constructor_sliced\u001b[0m\u001b[1;33m(\u001b[0m\u001b[0mresult\u001b[0m\u001b[1;33m,\u001b[0m \u001b[0mindex\u001b[0m\u001b[1;33m=\u001b[0m\u001b[0mlabels\u001b[0m\u001b[1;33m)\u001b[0m\u001b[1;33m\u001b[0m\u001b[1;33m\u001b[0m\u001b[0m\n",
      "\u001b[1;32mpandas/_libs/reduction.pyx\u001b[0m in \u001b[0;36mpandas._libs.reduction.reduce\u001b[1;34m()\u001b[0m\n",
      "\u001b[1;32mpandas/_libs/reduction.pyx\u001b[0m in \u001b[0;36mpandas._libs.reduction.Reducer.get_result\u001b[1;34m()\u001b[0m\n",
      "\u001b[1;32m<ipython-input-16-7e0282477868>\u001b[0m in \u001b[0;36m<lambda>\u001b[1;34m(x)\u001b[0m\n\u001b[0;32m     19\u001b[0m     \"\"\"\n\u001b[0;32m     20\u001b[0m     \u001b[0mtail_labels\u001b[0m \u001b[1;33m=\u001b[0m \u001b[0mget_tail_label\u001b[0m\u001b[1;33m(\u001b[0m\u001b[0my\u001b[0m\u001b[1;33m,\u001b[0m \u001b[0mql\u001b[0m\u001b[1;33m=\u001b[0m\u001b[0mql\u001b[0m\u001b[1;33m)\u001b[0m\u001b[1;33m\u001b[0m\u001b[1;33m\u001b[0m\u001b[0m\n\u001b[1;32m---> 21\u001b[1;33m     \u001b[0mindex\u001b[0m \u001b[1;33m=\u001b[0m \u001b[0my\u001b[0m\u001b[1;33m[\u001b[0m\u001b[0my\u001b[0m\u001b[1;33m[\u001b[0m\u001b[0mtail_labels\u001b[0m\u001b[1;33m]\u001b[0m\u001b[1;33m.\u001b[0m\u001b[0mapply\u001b[0m\u001b[1;33m(\u001b[0m\u001b[1;32mlambda\u001b[0m \u001b[0mx\u001b[0m\u001b[1;33m:\u001b[0m \u001b[1;33m(\u001b[0m\u001b[0mx\u001b[0m \u001b[1;33m==\u001b[0m \u001b[1;36m1\u001b[0m\u001b[1;33m)\u001b[0m\u001b[1;33m.\u001b[0m\u001b[0many\u001b[0m\u001b[1;33m(\u001b[0m\u001b[1;33m)\u001b[0m\u001b[1;33m,\u001b[0m \u001b[0maxis\u001b[0m\u001b[1;33m=\u001b[0m\u001b[1;36m1\u001b[0m\u001b[1;33m)\u001b[0m\u001b[1;33m]\u001b[0m\u001b[1;33m.\u001b[0m\u001b[0mindex\u001b[0m\u001b[1;33m.\u001b[0m\u001b[0mtolist\u001b[0m\u001b[1;33m(\u001b[0m\u001b[1;33m)\u001b[0m\u001b[1;33m\u001b[0m\u001b[1;33m\u001b[0m\u001b[0m\n\u001b[0m\u001b[0;32m     22\u001b[0m \u001b[1;33m\u001b[0m\u001b[0m\n\u001b[0;32m     23\u001b[0m     \u001b[0mX_sub\u001b[0m \u001b[1;33m=\u001b[0m \u001b[0mX\u001b[0m\u001b[1;33m[\u001b[0m\u001b[0mX\u001b[0m\u001b[1;33m.\u001b[0m\u001b[0mindex\u001b[0m\u001b[1;33m.\u001b[0m\u001b[0misin\u001b[0m\u001b[1;33m(\u001b[0m\u001b[0mindex\u001b[0m\u001b[1;33m)\u001b[0m\u001b[1;33m]\u001b[0m\u001b[1;33m.\u001b[0m\u001b[0mreset_index\u001b[0m\u001b[1;33m(\u001b[0m\u001b[0mdrop\u001b[0m \u001b[1;33m=\u001b[0m \u001b[1;32mTrue\u001b[0m\u001b[1;33m)\u001b[0m\u001b[1;33m\u001b[0m\u001b[1;33m\u001b[0m\u001b[0m\n",
      "\u001b[1;32m~\\anaconda3\\envs\\SCDC2\\lib\\site-packages\\pandas\\core\\ops\\__init__.py\u001b[0m in \u001b[0;36mwrapper\u001b[1;34m(self, other, axis)\u001b[0m\n\u001b[0;32m   1227\u001b[0m \u001b[1;33m\u001b[0m\u001b[0m\n\u001b[0;32m   1228\u001b[0m             \u001b[1;32mwith\u001b[0m \u001b[0mnp\u001b[0m\u001b[1;33m.\u001b[0m\u001b[0merrstate\u001b[0m\u001b[1;33m(\u001b[0m\u001b[0mall\u001b[0m\u001b[1;33m=\u001b[0m\u001b[1;34m\"ignore\"\u001b[0m\u001b[1;33m)\u001b[0m\u001b[1;33m:\u001b[0m\u001b[1;33m\u001b[0m\u001b[1;33m\u001b[0m\u001b[0m\n\u001b[1;32m-> 1229\u001b[1;33m                 \u001b[0mres\u001b[0m \u001b[1;33m=\u001b[0m \u001b[0mna_op\u001b[0m\u001b[1;33m(\u001b[0m\u001b[0mvalues\u001b[0m\u001b[1;33m,\u001b[0m \u001b[0mother\u001b[0m\u001b[1;33m)\u001b[0m\u001b[1;33m\u001b[0m\u001b[1;33m\u001b[0m\u001b[0m\n\u001b[0m\u001b[0;32m   1230\u001b[0m             \u001b[1;32mif\u001b[0m \u001b[0mis_scalar\u001b[0m\u001b[1;33m(\u001b[0m\u001b[0mres\u001b[0m\u001b[1;33m)\u001b[0m\u001b[1;33m:\u001b[0m\u001b[1;33m\u001b[0m\u001b[1;33m\u001b[0m\u001b[0m\n\u001b[0;32m   1231\u001b[0m                 raise TypeError(\n",
      "\u001b[1;32m~\\anaconda3\\envs\\SCDC2\\lib\\site-packages\\pandas\\core\\ops\\__init__.py\u001b[0m in \u001b[0;36mna_op\u001b[1;34m(x, y)\u001b[0m\n\u001b[0;32m   1091\u001b[0m             \u001b[0mresult\u001b[0m \u001b[1;33m=\u001b[0m \u001b[0m_comp_method_OBJECT_ARRAY\u001b[0m\u001b[1;33m(\u001b[0m\u001b[0mop\u001b[0m\u001b[1;33m,\u001b[0m \u001b[0mx\u001b[0m\u001b[1;33m,\u001b[0m \u001b[0my\u001b[0m\u001b[1;33m)\u001b[0m\u001b[1;33m\u001b[0m\u001b[1;33m\u001b[0m\u001b[0m\n\u001b[0;32m   1092\u001b[0m \u001b[1;33m\u001b[0m\u001b[0m\n\u001b[1;32m-> 1093\u001b[1;33m         \u001b[1;32melif\u001b[0m \u001b[0mis_datetimelike_v_numeric\u001b[0m\u001b[1;33m(\u001b[0m\u001b[0mx\u001b[0m\u001b[1;33m,\u001b[0m \u001b[0my\u001b[0m\u001b[1;33m)\u001b[0m\u001b[1;33m:\u001b[0m\u001b[1;33m\u001b[0m\u001b[1;33m\u001b[0m\u001b[0m\n\u001b[0m\u001b[0;32m   1094\u001b[0m             \u001b[1;32mreturn\u001b[0m \u001b[0minvalid_comparison\u001b[0m\u001b[1;33m(\u001b[0m\u001b[0mx\u001b[0m\u001b[1;33m,\u001b[0m \u001b[0my\u001b[0m\u001b[1;33m,\u001b[0m \u001b[0mop\u001b[0m\u001b[1;33m)\u001b[0m\u001b[1;33m\u001b[0m\u001b[1;33m\u001b[0m\u001b[0m\n\u001b[0;32m   1095\u001b[0m \u001b[1;33m\u001b[0m\u001b[0m\n",
      "\u001b[1;32m~\\anaconda3\\envs\\SCDC2\\lib\\site-packages\\pandas\\core\\dtypes\\common.py\u001b[0m in \u001b[0;36mis_datetimelike_v_numeric\u001b[1;34m(a, b)\u001b[0m\n\u001b[0;32m   1459\u001b[0m \u001b[1;33m\u001b[0m\u001b[0m\n\u001b[0;32m   1460\u001b[0m     \u001b[0mis_datetimelike\u001b[0m \u001b[1;33m=\u001b[0m \u001b[0mneeds_i8_conversion\u001b[0m\u001b[1;33m\u001b[0m\u001b[1;33m\u001b[0m\u001b[0m\n\u001b[1;32m-> 1461\u001b[1;33m     return (is_datetimelike(a) and is_numeric(b)) or (\n\u001b[0m\u001b[0;32m   1462\u001b[0m         \u001b[0mis_datetimelike\u001b[0m\u001b[1;33m(\u001b[0m\u001b[0mb\u001b[0m\u001b[1;33m)\u001b[0m \u001b[1;32mand\u001b[0m \u001b[0mis_numeric\u001b[0m\u001b[1;33m(\u001b[0m\u001b[0ma\u001b[0m\u001b[1;33m)\u001b[0m\u001b[1;33m\u001b[0m\u001b[1;33m\u001b[0m\u001b[0m\n\u001b[0;32m   1463\u001b[0m     )\n",
      "\u001b[1;32m~\\anaconda3\\envs\\SCDC2\\lib\\site-packages\\pandas\\core\\dtypes\\common.py\u001b[0m in \u001b[0;36mneeds_i8_conversion\u001b[1;34m(arr_or_dtype)\u001b[0m\n\u001b[0;32m   1503\u001b[0m     return (\n\u001b[0;32m   1504\u001b[0m         \u001b[0mis_datetime_or_timedelta_dtype\u001b[0m\u001b[1;33m(\u001b[0m\u001b[0marr_or_dtype\u001b[0m\u001b[1;33m)\u001b[0m\u001b[1;33m\u001b[0m\u001b[1;33m\u001b[0m\u001b[0m\n\u001b[1;32m-> 1505\u001b[1;33m         \u001b[1;32mor\u001b[0m \u001b[0mis_datetime64tz_dtype\u001b[0m\u001b[1;33m(\u001b[0m\u001b[0marr_or_dtype\u001b[0m\u001b[1;33m)\u001b[0m\u001b[1;33m\u001b[0m\u001b[1;33m\u001b[0m\u001b[0m\n\u001b[0m\u001b[0;32m   1506\u001b[0m         \u001b[1;32mor\u001b[0m \u001b[0mis_period_dtype\u001b[0m\u001b[1;33m(\u001b[0m\u001b[0marr_or_dtype\u001b[0m\u001b[1;33m)\u001b[0m\u001b[1;33m\u001b[0m\u001b[1;33m\u001b[0m\u001b[0m\n\u001b[0;32m   1507\u001b[0m     )\n",
      "\u001b[1;32m~\\anaconda3\\envs\\SCDC2\\lib\\site-packages\\pandas\\core\\dtypes\\common.py\u001b[0m in \u001b[0;36mis_datetime64tz_dtype\u001b[1;34m(arr_or_dtype)\u001b[0m\n\u001b[0;32m    572\u001b[0m     \u001b[1;32mif\u001b[0m \u001b[0marr_or_dtype\u001b[0m \u001b[1;32mis\u001b[0m \u001b[1;32mNone\u001b[0m\u001b[1;33m:\u001b[0m\u001b[1;33m\u001b[0m\u001b[1;33m\u001b[0m\u001b[0m\n\u001b[0;32m    573\u001b[0m         \u001b[1;32mreturn\u001b[0m \u001b[1;32mFalse\u001b[0m\u001b[1;33m\u001b[0m\u001b[1;33m\u001b[0m\u001b[0m\n\u001b[1;32m--> 574\u001b[1;33m     \u001b[1;32mreturn\u001b[0m \u001b[0mDatetimeTZDtype\u001b[0m\u001b[1;33m.\u001b[0m\u001b[0mis_dtype\u001b[0m\u001b[1;33m(\u001b[0m\u001b[0marr_or_dtype\u001b[0m\u001b[1;33m)\u001b[0m\u001b[1;33m\u001b[0m\u001b[1;33m\u001b[0m\u001b[0m\n\u001b[0m\u001b[0;32m    575\u001b[0m \u001b[1;33m\u001b[0m\u001b[0m\n\u001b[0;32m    576\u001b[0m \u001b[1;33m\u001b[0m\u001b[0m\n",
      "\u001b[1;32m~\\anaconda3\\envs\\SCDC2\\lib\\site-packages\\pandas\\core\\dtypes\\base.py\u001b[0m in \u001b[0;36mis_dtype\u001b[1;34m(cls, dtype)\u001b[0m\n\u001b[0;32m    254\u001b[0m         \u001b[0mdtype\u001b[0m \u001b[1;33m=\u001b[0m \u001b[0mgetattr\u001b[0m\u001b[1;33m(\u001b[0m\u001b[0mdtype\u001b[0m\u001b[1;33m,\u001b[0m \u001b[1;34m\"dtype\"\u001b[0m\u001b[1;33m,\u001b[0m \u001b[0mdtype\u001b[0m\u001b[1;33m)\u001b[0m\u001b[1;33m\u001b[0m\u001b[1;33m\u001b[0m\u001b[0m\n\u001b[0;32m    255\u001b[0m \u001b[1;33m\u001b[0m\u001b[0m\n\u001b[1;32m--> 256\u001b[1;33m         \u001b[1;32mif\u001b[0m \u001b[0misinstance\u001b[0m\u001b[1;33m(\u001b[0m\u001b[0mdtype\u001b[0m\u001b[1;33m,\u001b[0m \u001b[1;33m(\u001b[0m\u001b[0mABCSeries\u001b[0m\u001b[1;33m,\u001b[0m \u001b[0mABCIndexClass\u001b[0m\u001b[1;33m,\u001b[0m \u001b[0mABCDataFrame\u001b[0m\u001b[1;33m,\u001b[0m \u001b[0mnp\u001b[0m\u001b[1;33m.\u001b[0m\u001b[0mdtype\u001b[0m\u001b[1;33m)\u001b[0m\u001b[1;33m)\u001b[0m\u001b[1;33m:\u001b[0m\u001b[1;33m\u001b[0m\u001b[1;33m\u001b[0m\u001b[0m\n\u001b[0m\u001b[0;32m    257\u001b[0m             \u001b[1;31m# https://github.com/pandas-dev/pandas/issues/22960\u001b[0m\u001b[1;33m\u001b[0m\u001b[1;33m\u001b[0m\u001b[1;33m\u001b[0m\u001b[0m\n\u001b[0;32m    258\u001b[0m             \u001b[1;31m# avoid passing data to `construct_from_string`. This could\u001b[0m\u001b[1;33m\u001b[0m\u001b[1;33m\u001b[0m\u001b[1;33m\u001b[0m\u001b[0m\n",
      "\u001b[1;32m~\\anaconda3\\envs\\SCDC2\\lib\\site-packages\\pandas\\core\\dtypes\\generic.py\u001b[0m in \u001b[0;36m_check\u001b[1;34m(cls, inst)\u001b[0m\n\u001b[0;32m      7\u001b[0m     \u001b[1;33m@\u001b[0m\u001b[0mclassmethod\u001b[0m\u001b[1;33m\u001b[0m\u001b[1;33m\u001b[0m\u001b[0m\n\u001b[0;32m      8\u001b[0m     \u001b[1;32mdef\u001b[0m \u001b[0m_check\u001b[0m\u001b[1;33m(\u001b[0m\u001b[0mcls\u001b[0m\u001b[1;33m,\u001b[0m \u001b[0minst\u001b[0m\u001b[1;33m)\u001b[0m\u001b[1;33m:\u001b[0m\u001b[1;33m\u001b[0m\u001b[1;33m\u001b[0m\u001b[0m\n\u001b[1;32m----> 9\u001b[1;33m         \u001b[1;32mreturn\u001b[0m \u001b[0mgetattr\u001b[0m\u001b[1;33m(\u001b[0m\u001b[0minst\u001b[0m\u001b[1;33m,\u001b[0m \u001b[0mattr\u001b[0m\u001b[1;33m,\u001b[0m \u001b[1;34m\"_typ\"\u001b[0m\u001b[1;33m)\u001b[0m \u001b[1;32min\u001b[0m \u001b[0mcomp\u001b[0m\u001b[1;33m\u001b[0m\u001b[1;33m\u001b[0m\u001b[0m\n\u001b[0m\u001b[0;32m     10\u001b[0m \u001b[1;33m\u001b[0m\u001b[0m\n\u001b[0;32m     11\u001b[0m     \u001b[0mdct\u001b[0m \u001b[1;33m=\u001b[0m \u001b[0mdict\u001b[0m\u001b[1;33m(\u001b[0m\u001b[0m__instancecheck__\u001b[0m\u001b[1;33m=\u001b[0m\u001b[0m_check\u001b[0m\u001b[1;33m,\u001b[0m \u001b[0m__subclasscheck__\u001b[0m\u001b[1;33m=\u001b[0m\u001b[0m_check\u001b[0m\u001b[1;33m)\u001b[0m\u001b[1;33m\u001b[0m\u001b[1;33m\u001b[0m\u001b[0m\n",
      "\u001b[1;31mKeyboardInterrupt\u001b[0m: "
     ]
    }
   ],
   "source": [
    "for i in range(100):\n",
    "    X_sub, y_sub = get_minority_samples(x_train[y_train['MRC_ID_DI_0']==0], y_train[y_train['MRC_ID_DI_0']==0])  # Getting minority samples of that datframe\n",
    "    X_res, y_res = MLSMOTE(X_sub, y_sub, 2000, 5)  # Applying MLSMOTE to augment the dataframe\n",
    "    x_train = pd.concat([x_train, X_res], axis=0)\n",
    "    y_train = pd.concat([y_train, y_res], axis=0)\n",
    "    print(i)"
   ]
  },
  {
   "cell_type": "code",
   "execution_count": 20,
   "metadata": {},
   "outputs": [
    {
     "data": {
      "text/plain": [
       "MRC_ID_DI_0     170768\n",
       "MRC_ID_DI_1     141033\n",
       "MRC_ID_DI_2     164704\n",
       "MRC_ID_DI_3     237083\n",
       "MRC_ID_DI_4     142790\n",
       "MRC_ID_DI_5     173793\n",
       "MRC_ID_DI_6     172130\n",
       "MRC_ID_DI_7     163935\n",
       "MRC_ID_DI_8     242784\n",
       "MRC_ID_DI_9     103481\n",
       "MRC_ID_DI_10    206999\n",
       "dtype: int64"
      ]
     },
     "execution_count": 20,
     "metadata": {},
     "output_type": "execute_result"
    }
   ],
   "source": [
    "y_train.iloc[:,:].sum(axis=0)"
   ]
  },
  {
   "cell_type": "code",
   "execution_count": 21,
   "metadata": {},
   "outputs": [
    {
     "ename": "NameError",
     "evalue": "name 'y_res' is not defined",
     "output_type": "error",
     "traceback": [
      "\u001b[1;31m---------------------------------------------------------------------------\u001b[0m",
      "\u001b[1;31mNameError\u001b[0m                                 Traceback (most recent call last)",
      "\u001b[1;32m<ipython-input-21-952a96410065>\u001b[0m in \u001b[0;36m<module>\u001b[1;34m\u001b[0m\n\u001b[1;32m----> 1\u001b[1;33m \u001b[0my_res\u001b[0m\u001b[1;33m.\u001b[0m\u001b[0mshape\u001b[0m\u001b[1;33m\u001b[0m\u001b[1;33m\u001b[0m\u001b[0m\n\u001b[0m",
      "\u001b[1;31mNameError\u001b[0m: name 'y_res' is not defined"
     ]
    }
   ],
   "source": [
    "y_res.shape"
   ]
  },
  {
   "cell_type": "code",
   "execution_count": 22,
   "metadata": {},
   "outputs": [
    {
     "data": {
      "text/plain": [
       "<matplotlib.axes._subplots.AxesSubplot at 0x2ac1fd14f60>"
      ]
     },
     "execution_count": 22,
     "metadata": {},
     "output_type": "execute_result"
    },
    {
     "data": {
      "image/png": "[encoded data removed]",
      "text/plain": [
       "<Figure size 432x288 with 1 Axes>"
      ]
     },
     "metadata": {
      "needs_background": "light"
     },
     "output_type": "display_data"
    }
   ],
   "source": [
    "y_train.iloc[:,:].sum(axis=0).plot.bar()"
   ]
  },
  {
   "cell_type": "code",
   "execution_count": 7,
   "metadata": {},
   "outputs": [],
   "source": [
    "from sklearn.preprocessing import RobustScaler\n",
    "rs=RobustScaler()\n",
    "x_train2 = rs.fit_transform(x_train)\n",
    "x_valid2 = rs.fit_transform(x_valid)"
   ]
  },
  {
   "cell_type": "code",
   "execution_count": 7,
   "metadata": {
    "scrolled": false
   },
   "outputs": [
    {
     "name": "stdout",
     "output_type": "stream",
     "text": [
      "[[-2.43800000e-02  5.57400000e-01  3.33000000e-02 ... -8.80000000e-04\n",
      "  -2.79060000e-01  2.46570000e-01]\n",
      " [ 1.63500000e-02  9.84000000e-01  3.33430000e-01 ... -2.48430000e-01\n",
      "  -3.91120000e-01  4.29280000e-01]\n",
      " [-2.63400000e-02  1.27900000e-01 -1.18870000e-01 ...  4.41200000e-02\n",
      "  -1.67660000e-01  3.62130000e-01]\n",
      " ...\n",
      " [-8.42995110e-02  2.27848607e-01 -1.61062177e-01 ...  5.09767650e-02\n",
      "   2.31016954e-01 -3.33610521e-01]\n",
      " [-7.42409340e-02  2.59634620e-02 -7.85356180e-02 ...  1.91327000e-02\n",
      "   2.87933660e-02 -2.73591936e-01]\n",
      " [-6.51639050e-02  3.95852524e-01 -1.09394049e-01 ...  2.25141520e-02\n",
      "   2.61644535e-01 -9.85264490e-02]]\n",
      "[[1 0 0 ... 0 0 0]\n",
      " [1 0 0 ... 0 0 0]\n",
      " [1 0 0 ... 0 0 0]\n",
      " ...\n",
      " [0 0 1 ... 0 0 1]\n",
      " [0 1 0 ... 1 1 0]\n",
      " [0 0 1 ... 0 1 1]]\n",
      "[[-0.03139  0.9779   0.30034 ... -0.10555 -0.35997  0.29996]\n",
      " [-0.03467  0.4181  -0.02969 ... -0.00282  0.14976 -0.15703]\n",
      " [-0.07021  0.1092  -0.19928 ...  0.02012  0.2871  -0.44233]\n",
      " ...\n",
      " [ 0.27469  0.9625   0.46168 ... -0.1347  -0.2424   0.34728]\n",
      " [ 0.07917  0.1407   0.05578 ...  0.00355 -0.14858  0.31921]\n",
      " [-0.00327  0.2119   0.0197  ... -0.01249 -0.06872 -0.00553]]\n",
      "[[1 0 0 ... 0 0 0]\n",
      " [0 0 0 ... 0 1 0]\n",
      " [0 0 0 ... 0 0 0]\n",
      " ...\n",
      " [1 0 0 ... 0 0 0]\n",
      " [1 0 0 ... 0 0 0]\n",
      " [0 0 0 ... 0 0 0]]\n"
     ]
    },
    {
     "name": "stderr",
     "output_type": "stream",
     "text": [
      "C:\\Users\\hyowon\\anaconda3\\envs\\SCDC\\lib\\site-packages\\sklearn\\utils\\validation.py:70: FutureWarning: Pass shuffle=True, random_state=0 as keyword args. From version 0.25 passing these as positional arguments will result in an error\n",
      "  FutureWarning)\n"
     ]
    },
    {
     "name": "stdout",
     "output_type": "stream",
     "text": [
      "TRAIN: [     1      2      3 ... 654945 654946 654947] TEST: [     0     12     17 ... 654931 654932 654941]\n",
      "Train on 524388 samples, validate on 28543 samples\n",
      "Epoch 1/10\n",
      "524388/524388 [==============================] - 45s 86us/step - loss: 0.5712 - accuracy: 0.7338 - val_loss: 0.3945 - val_accuracy: 0.9090\n",
      "\n",
      "Epoch 00001: val_loss improved from inf to 0.39449, saving model to best.h5\n",
      "Epoch 2/10\n",
      "524388/524388 [==============================] - 56s 106us/step - loss: 0.5711 - accuracy: 0.7338 - val_loss: 0.4270 - val_accuracy: 0.9090\n",
      "\n",
      "Epoch 00002: val_loss did not improve from 0.39449\n",
      "Epoch 3/10\n",
      "524388/524388 [==============================] - 55s 105us/step - loss: 0.5712 - accuracy: 0.7338 - val_loss: 0.4136 - val_accuracy: 0.9090\n",
      "\n",
      "Epoch 00003: val_loss did not improve from 0.39449\n",
      "Epoch 4/10\n",
      "524388/524388 [==============================] - 53s 100us/step - loss: 0.5712 - accuracy: 0.7338 - val_loss: 0.4057 - val_accuracy: 0.9090\n",
      "\n",
      "Epoch 00004: val_loss did not improve from 0.39449\n",
      "Epoch 5/10\n",
      "524388/524388 [==============================] - 60s 114us/step - loss: 0.5711 - accuracy: 0.7338 - val_loss: 0.4071 - val_accuracy: 0.9090\n",
      "\n",
      "Epoch 00005: val_loss did not improve from 0.39449\n",
      "Epoch 6/10\n",
      "524388/524388 [==============================] - 59s 113us/step - loss: 0.5711 - accuracy: 0.7338 - val_loss: 0.4159 - val_accuracy: 0.9090\n",
      "\n",
      "Epoch 00006: val_loss did not improve from 0.39449\n",
      "\n",
      "Epoch 00006: ReduceLROnPlateau reducing learning rate to 0.0024999999441206455.\n",
      "Epoch 7/10\n",
      "524388/524388 [==============================] - 58s 111us/step - loss: 0.5707 - accuracy: 0.7338 - val_loss: 0.4003 - val_accuracy: 0.9090\n",
      "\n",
      "Epoch 00007: val_loss did not improve from 0.39449\n",
      "Epoch 8/10\n",
      "524388/524388 [==============================] - 53s 100us/step - loss: 0.5707 - accuracy: 0.7338 - val_loss: 0.3965 - val_accuracy: 0.9090\n",
      "\n",
      "Epoch 00008: val_loss did not improve from 0.39449\n",
      "Epoch 9/10\n",
      "524388/524388 [==============================] - 58s 111us/step - loss: 0.5707 - accuracy: 0.7338 - val_loss: 0.4162 - val_accuracy: 0.9090\n",
      "\n",
      "Epoch 00009: val_loss did not improve from 0.39449\n",
      "Epoch 10/10\n",
      "524388/524388 [==============================] - 60s 115us/step - loss: 0.5707 - accuracy: 0.7338 - val_loss: 0.4260 - val_accuracy: 0.9090\n",
      "\n",
      "Epoch 00010: val_loss did not improve from 0.39449\n",
      "TRAIN: [     0      1      2 ... 654942 654944 654947] TEST: [     4      5      7 ... 654943 654945 654946]\n",
      "Train on 523888 samples, validate on 28543 samples\n",
      "Epoch 1/10\n",
      "523888/523888 [==============================] - 58s 111us/step - loss: 0.5709 - accuracy: 0.7335 - val_loss: 0.4093 - val_accuracy: 0.9090\n",
      "\n",
      "Epoch 00001: val_loss did not improve from 0.39449\n",
      "Epoch 2/10\n",
      "523888/523888 [==============================] - 58s 111us/step - loss: 0.5709 - accuracy: 0.7335 - val_loss: 0.4011 - val_accuracy: 0.9090\n",
      "\n",
      "Epoch 00002: val_loss did not improve from 0.39449\n",
      "Epoch 3/10\n",
      "523888/523888 [==============================] - 58s 111us/step - loss: 0.5709 - accuracy: 0.7335 - val_loss: 0.4220 - val_accuracy: 0.9090\n",
      "\n",
      "Epoch 00003: val_loss did not improve from 0.39449\n",
      "Epoch 4/10\n",
      "523888/523888 [==============================] - 59s 112us/step - loss: 0.5709 - accuracy: 0.7335 - val_loss: 0.4091 - val_accuracy: 0.9090\n",
      "\n",
      "Epoch 00004: val_loss did not improve from 0.39449\n",
      "Epoch 5/10\n",
      "523888/523888 [==============================] - 64s 121us/step - loss: 0.5709 - accuracy: 0.7335 - val_loss: 0.4059 - val_accuracy: 0.9090\n",
      "\n",
      "Epoch 00005: val_loss did not improve from 0.39449\n",
      "Epoch 6/10\n",
      "523888/523888 [==============================] - 58s 111us/step - loss: 0.5709 - accuracy: 0.7335 - val_loss: 0.4276 - val_accuracy: 0.9090\n",
      "\n",
      "Epoch 00006: val_loss did not improve from 0.39449\n",
      "Epoch 7/10\n",
      "523888/523888 [==============================] - 56s 108us/step - loss: 0.5709 - accuracy: 0.7335 - val_loss: 0.3871 - val_accuracy: 0.9090\n",
      "\n",
      "Epoch 00007: val_loss improved from 0.39449 to 0.38713, saving model to best.h5\n",
      "Epoch 8/10\n",
      "523888/523888 [==============================] - 58s 111us/step - loss: 0.5709 - accuracy: 0.7335 - val_loss: 0.4029 - val_accuracy: 0.9090\n",
      "\n",
      "Epoch 00008: val_loss did not improve from 0.38713\n",
      "Epoch 9/10\n",
      "523888/523888 [==============================] - 53s 102us/step - loss: 0.5709 - accuracy: 0.7335 - val_loss: 0.3943 - val_accuracy: 0.9090\n",
      "\n",
      "Epoch 00009: val_loss did not improve from 0.38713\n",
      "Epoch 10/10\n",
      "523888/523888 [==============================] - 53s 102us/step - loss: 0.5709 - accuracy: 0.7335 - val_loss: 0.4173 - val_accuracy: 0.9090\n",
      "\n",
      "Epoch 00010: val_loss did not improve from 0.38713\n",
      "TRAIN: [     0      1      2 ... 654944 654945 654946] TEST: [     3      6      9 ... 654936 654940 654947]\n",
      "Train on 523627 samples, validate on 28543 samples\n",
      "Epoch 1/10\n",
      "523627/523627 [==============================] - 54s 103us/step - loss: 0.5709 - accuracy: 0.7334 - val_loss: 0.4076 - val_accuracy: 0.9090\n",
      "\n",
      "Epoch 00001: val_loss did not improve from 0.38713\n",
      "Epoch 2/10\n",
      "523627/523627 [==============================] - 56s 106us/step - loss: 0.5709 - accuracy: 0.7334 - val_loss: 0.4060 - val_accuracy: 0.9090\n",
      "\n",
      "Epoch 00002: val_loss did not improve from 0.38713\n",
      "Epoch 3/10\n",
      "523627/523627 [==============================] - 61s 116us/step - loss: 0.5709 - accuracy: 0.7334 - val_loss: 0.3984 - val_accuracy: 0.9090\n",
      "\n",
      "Epoch 00003: val_loss did not improve from 0.38713\n",
      "Epoch 4/10\n",
      "523627/523627 [==============================] - 60s 114us/step - loss: 0.5709 - accuracy: 0.7334 - val_loss: 0.3886 - val_accuracy: 0.9090\n",
      "\n",
      "Epoch 00004: val_loss did not improve from 0.38713\n",
      "Epoch 5/10\n",
      "523627/523627 [==============================] - 63s 120us/step - loss: 0.5709 - accuracy: 0.7334 - val_loss: 0.4089 - val_accuracy: 0.9090\n",
      "\n",
      "Epoch 00005: val_loss did not improve from 0.38713\n",
      "Epoch 6/10\n",
      "523627/523627 [==============================] - 59s 113us/step - loss: 0.5709 - accuracy: 0.7334 - val_loss: 0.4164 - val_accuracy: 0.9090\n",
      "\n",
      "Epoch 00006: val_loss did not improve from 0.38713\n",
      "Epoch 7/10\n",
      "523627/523627 [==============================] - 58s 111us/step - loss: 0.5709 - accuracy: 0.7334 - val_loss: 0.4104 - val_accuracy: 0.9090\n",
      "\n",
      "Epoch 00007: val_loss did not improve from 0.38713\n",
      "Epoch 8/10\n",
      "523627/523627 [==============================] - 59s 112us/step - loss: 0.5709 - accuracy: 0.7334 - val_loss: 0.3979 - val_accuracy: 0.9090\n",
      "\n",
      "Epoch 00008: val_loss did not improve from 0.38713\n",
      "Epoch 9/10\n",
      "523627/523627 [==============================] - 55s 105us/step - loss: 0.5709 - accuracy: 0.7334 - val_loss: 0.4077 - val_accuracy: 0.9090\n",
      "\n",
      "Epoch 00009: val_loss did not improve from 0.38713\n",
      "\n",
      "Epoch 00009: ReduceLROnPlateau reducing learning rate to 0.0012499999720603228.\n",
      "Epoch 10/10\n",
      "523627/523627 [==============================] - 56s 106us/step - loss: 0.5707 - accuracy: 0.7334 - val_loss: 0.4085 - val_accuracy: 0.9090\n",
      "\n",
      "Epoch 00010: val_loss did not improve from 0.38713\n",
      "TRAIN: [     0      3      4 ... 654945 654946 654947] TEST: [     1      2      8 ... 654914 654933 654939]\n",
      "Train on 524023 samples, validate on 28543 samples\n",
      "Epoch 1/10\n",
      "524023/524023 [==============================] - 55s 105us/step - loss: 0.5705 - accuracy: 0.7336 - val_loss: 0.4002 - val_accuracy: 0.9090\n",
      "\n",
      "Epoch 00001: val_loss did not improve from 0.38713\n",
      "Epoch 2/10\n",
      "524023/524023 [==============================] - 55s 106us/step - loss: 0.5705 - accuracy: 0.7336 - val_loss: 0.4138 - val_accuracy: 0.9090\n",
      "\n",
      "Epoch 00002: val_loss did not improve from 0.38713\n",
      "Epoch 3/10\n",
      "524023/524023 [==============================] - 56s 107us/step - loss: 0.5705 - accuracy: 0.7336 - val_loss: 0.4123 - val_accuracy: 0.9090\n",
      "\n",
      "Epoch 00003: val_loss did not improve from 0.38713\n",
      "Epoch 4/10\n",
      "524023/524023 [==============================] - 55s 104us/step - loss: 0.5705 - accuracy: 0.7336 - val_loss: 0.4058 - val_accuracy: 0.9090\n",
      "\n",
      "Epoch 00004: val_loss did not improve from 0.38713\n",
      "Epoch 5/10\n",
      "524023/524023 [==============================] - 55s 105us/step - loss: 0.5705 - accuracy: 0.7336 - val_loss: 0.4004 - val_accuracy: 0.9090\n",
      "\n",
      "Epoch 00005: val_loss did not improve from 0.38713\n",
      "Epoch 6/10\n",
      "524023/524023 [==============================] - 54s 104us/step - loss: 0.5705 - accuracy: 0.7336 - val_loss: 0.4055 - val_accuracy: 0.9090\n",
      "\n",
      "Epoch 00006: val_loss did not improve from 0.38713\n",
      "\n",
      "Epoch 00006: ReduceLROnPlateau reducing learning rate to 0.0006249999860301614.\n",
      "Epoch 7/10\n"
     ]
    },
    {
     "name": "stdout",
     "output_type": "stream",
     "text": [
      "524023/524023 [==============================] - 56s 107us/step - loss: 0.5705 - accuracy: 0.7336 - val_loss: 0.4064 - val_accuracy: 0.9090\n",
      "\n",
      "Epoch 00007: val_loss did not improve from 0.38713\n",
      "Epoch 8/10\n",
      "524023/524023 [==============================] - 57s 108us/step - loss: 0.5705 - accuracy: 0.7336 - val_loss: 0.4061 - val_accuracy: 0.9090\n",
      "\n",
      "Epoch 00008: val_loss did not improve from 0.38713\n",
      "Epoch 9/10\n",
      "524023/524023 [==============================] - 55s 104us/step - loss: 0.5705 - accuracy: 0.7336 - val_loss: 0.4032 - val_accuracy: 0.9090\n",
      "\n",
      "Epoch 00009: val_loss did not improve from 0.38713\n",
      "Epoch 10/10\n",
      "524023/524023 [==============================] - 57s 108us/step - loss: 0.5705 - accuracy: 0.7336 - val_loss: 0.4090 - val_accuracy: 0.9090\n",
      "\n",
      "Epoch 00010: val_loss did not improve from 0.38713\n",
      "TRAIN: [     0      1      2 ... 654945 654946 654947] TEST: [    13     21     34 ... 654938 654942 654944]\n",
      "Train on 523866 samples, validate on 28543 samples\n",
      "Epoch 1/10\n",
      "523866/523866 [==============================] - 56s 106us/step - loss: 0.5705 - accuracy: 0.7335 - val_loss: 0.4013 - val_accuracy: 0.9090\n",
      "\n",
      "Epoch 00001: val_loss did not improve from 0.38713\n",
      "Epoch 2/10\n",
      "523866/523866 [==============================] - 55s 106us/step - loss: 0.5705 - accuracy: 0.7335 - val_loss: 0.4135 - val_accuracy: 0.9090\n",
      "\n",
      "Epoch 00002: val_loss did not improve from 0.38713\n",
      "Epoch 3/10\n",
      "523866/523866 [==============================] - 55s 104us/step - loss: 0.5705 - accuracy: 0.7335 - val_loss: 0.4087 - val_accuracy: 0.9090\n",
      "\n",
      "Epoch 00003: val_loss did not improve from 0.38713\n",
      "Epoch 4/10\n",
      "523866/523866 [==============================] - 56s 107us/step - loss: 0.5705 - accuracy: 0.7335 - val_loss: 0.4020 - val_accuracy: 0.9090\n",
      "\n",
      "Epoch 00004: val_loss did not improve from 0.38713\n",
      "Epoch 5/10\n",
      "523866/523866 [==============================] - 56s 108us/step - loss: 0.5705 - accuracy: 0.7335 - val_loss: 0.4083 - val_accuracy: 0.9090\n",
      "\n",
      "Epoch 00005: val_loss did not improve from 0.38713\n",
      "Epoch 6/10\n",
      "523866/523866 [==============================] - 57s 108us/step - loss: 0.5705 - accuracy: 0.7335 - val_loss: 0.4066 - val_accuracy: 0.9090\n",
      "\n",
      "Epoch 00006: val_loss did not improve from 0.38713\n",
      "\n",
      "Epoch 00006: ReduceLROnPlateau reducing learning rate to 0.0003124999930150807.\n",
      "Epoch 7/10\n",
      "523866/523866 [==============================] - 55s 106us/step - loss: 0.5705 - accuracy: 0.7335 - val_loss: 0.4019 - val_accuracy: 0.9090\n",
      "\n",
      "Epoch 00007: val_loss did not improve from 0.38713\n",
      "Epoch 8/10\n",
      "523866/523866 [==============================] - 56s 107us/step - loss: 0.5705 - accuracy: 0.7335 - val_loss: 0.4012 - val_accuracy: 0.9090\n",
      "\n",
      "Epoch 00008: val_loss did not improve from 0.38713\n",
      "Epoch 9/10\n",
      "523866/523866 [==============================] - 55s 106us/step - loss: 0.5705 - accuracy: 0.7335 - val_loss: 0.4129 - val_accuracy: 0.9090\n",
      "\n",
      "Epoch 00009: val_loss did not improve from 0.38713\n",
      "Epoch 10/10\n",
      "523866/523866 [==============================] - 56s 106us/step - loss: 0.5705 - accuracy: 0.7335 - val_loss: 0.3990 - val_accuracy: 0.9090\n",
      "\n",
      "Epoch 00010: val_loss did not improve from 0.38713\n",
      "0\n"
     ]
    }
   ],
   "source": [
    "input = keras.layers.Input(shape=(226,))\n",
    "h1 = keras.layers.Dense(226, activation='sigmoid')(input)\n",
    "h2 = keras.layers.Dense(226, activation='sigmoid')(h1)\n",
    "h3 = keras.layers.Dense(226, activation='sigmoid')(h2)\n",
    "h4 = keras.layers.Dense(113, activation='sigmoid')(h3)\n",
    "h5 = keras.layers.Dense(113, activation='sigmoid')(h4)\n",
    "added = keras.layers.Add()([h4, h5])\n",
    "h6 = keras.layers.Dense(113, activation='sigmoid')(added)\n",
    "added2 = keras.layers.Add()([h4, h6])\n",
    "h7 = keras.layers.Dense(113, activation='sigmoid')(added2)\n",
    "added3 = keras.layers.Add()([h4, h7])\n",
    "h8 = keras.layers.Dense(113, activation='sigmoid')(added3)\n",
    "h9 = keras.layers.Dense(113, activation='sigmoid')(h8)\n",
    "out = keras.layers.Dense(11, activation='sigmoid')(h9)\n",
    "\n",
    "model = keras.models.Model(inputs=[input], outputs=out)\n",
    "    \n",
    "    \n",
    "model.compile(optimizer=keras.optimizers.Adam(lr=0.005),\n",
    "              loss='binary_crossentropy',\n",
    "              metrics=['accuracy'])\n",
    "\n",
    "#skf=StratifiedKFold(n_splits=5, random_state=42, shuffle=True) # n_splits : 분할 횟수 , shuffle : 데이터 섞음(stratify효과)\n",
    "x_train3=np.array(x_train)\n",
    "y_train3=np.array(y_train)\n",
    "x_valid3=np.array(x_valid)\n",
    "y_valid3=np.array(y_valid)\n",
    "\n",
    "#label_encoder = LabelEncoder()\n",
    "#y_train3 = label_encoder.fit_transform(y_train3)\n",
    "#y_valid3 = label_encoder.fit_transform(y_valid3)\n",
    "\n",
    "print(x_train3)\n",
    "print(y_train3)\n",
    "print(x_valid3)\n",
    "print(y_valid3)\n",
    "\n",
    "deep_result=0\n",
    "count = 1\n",
    "'''\n",
    "for i, (train_index, valid_index) in enumerate(skf.split(x_train3, y_train3.argmax(1))):\n",
    "    print(valid_index)\n",
    "    filename = 'best'+str(count)+'.h5'\n",
    "    x_train4=x_train3[train_index]\n",
    "    x_valid4=x_train3[valid_index]\n",
    "    y_train4=y_train3[train_index]\n",
    "    y_valid4=y_train3[valid_index]\n",
    "    print(x_train4.shape)\n",
    "    print(y_train4.shape)\n",
    "    print(x_valid4.shape)\n",
    "    print(y_valid4.shape)\n",
    "    \n",
    "    y = np.sum(y_valid4, axis=1)\n",
    "    print(y)\n",
    "    \n",
    "    rl=ReduceLROnPlateau(patience = 5, verbose=1, factor=0.2)\n",
    "    es=EarlyStopping(patience=10,verbose=1) # val_loss가 안좋아지면 멈춤, patience : val_loss값이 이전보다 감소하면 멈춤, 몇 번 감소하는지 설정\n",
    "    mc=ModelCheckpoint(filename,save_best_only=True,verbose=1) # verbose : 분석 과정에 결과 띄움\n",
    "    \n",
    "    KERAS_PARAMS = dict(epochs=1000, validation_data=(x_valid4,y_valid4), callbacks=[es,mc,rl])\n",
    "    \n",
    "    clf = BinaryRelevance(classifier=Keras(model, True, KERAS_PARAMS), require_dense=[True,True])\n",
    "    clf.fit(x_train4,y_train4)\n",
    "    clf.load_weights(filename)\n",
    "        \n",
    "    #model.fit(x_train4,y_train4,epochs=1000,validation_data=(x_valid4,y_valid4),callbacks=[es,mc,rl]) \n",
    "    #model.load_weights(filename)\n",
    "    \n",
    "    #model.evaluate(x_valid4,  y_valid4, verbose=2)\n",
    "    deep_result += clf.predict(x_valid3)/5\n",
    "\n",
    "print(x_train3.shape)\n",
    "print(y_train3.shape)\n",
    "print(x_valid3.shape)\n",
    "print(y_valid3.shape)\n",
    "'''\n",
    "\n",
    "filename = 'best.h5'\n",
    "rl=ReduceLROnPlateau(patience = 5, verbose=1, factor=0.5)\n",
    "es=EarlyStopping(patience=20,verbose=1) # val_loss가 안좋아지면 멈춤, patience : val_loss값이 이전보다 감소하면 멈춤, 몇 번 감소하는지 설정\n",
    "mc=ModelCheckpoint(filename,save_best_only=True,verbose=1) # verbose : 분석 과정에 결과 띄움\n",
    "\n",
    "#KERAS_PARAMS = dict(epochs=1000, validation_data=(x_valid3,y_valid3), callbacks=[es,mc,rl])\n",
    "    \n",
    "#clf = BinaryRelevance(classifier=Keras(model, True, KERAS_PARAMS), require_dense=[True,True])\n",
    "#clf.fit(x_train3,y_train3)\n",
    "#clf.load_weights(filename)\n",
    "\n",
    "\n",
    "mskf = MultilabelStratifiedKFold(n_splits=5, shuffle=True, random_state=0)\n",
    "\n",
    "for train_index, test_index in mskf.split(x_train,y_train):\n",
    "    print(\"TRAIN:\", train_index, \"TEST:\", test_index)\n",
    "    X_train, X_valid = x_train3[train_index], x_train3[test_index]\n",
    "    Y_train, Y_valid = y_train3[train_index], y_train3[test_index]\n",
    "    \n",
    "    model.fit(X_train,Y_train,epochs=10,validation_data=(x_valid3,y_valid3),callbacks=[es,mc,rl])\n",
    "\n",
    "'''   \n",
    "model.fit(x_train3,y_train3,epochs=30,validation_data=(x_valid3,y_valid3),callbacks=[es,mc,rl])\n",
    "model.load_weights(filename)\n",
    "deep_result = model.predict(x_valid3)\n",
    "'''\n",
    "\n",
    "# deep_ovr = roc_auc_score(y_valid3, model.predict(x_valid3),multi_class=\"ovr\") # multi_class=\"ovr, ovo\"\n",
    "# print(\"ovr = \", deep_ovr)\n",
    "print(deep_result)"
   ]
  },
  {
   "cell_type": "code",
   "execution_count": 24,
   "metadata": {
    "scrolled": false
   },
   "outputs": [
    {
     "name": "stdout",
     "output_type": "stream",
     "text": [
      "Train on 654948 samples, validate on 28543 samples\n",
      "Epoch 1/5\n",
      "654948/654948 [==============================] - 66s 101us/step - loss: 0.4640 - accuracy: 0.7741 - val_loss: 0.4922 - val_accuracy: 0.7831\n",
      "\n",
      "Epoch 00001: val_loss did not improve from 0.39101\n",
      "Epoch 2/5\n",
      "654948/654948 [==============================] - 60s 92us/step - loss: 0.4692 - accuracy: 0.7722 - val_loss: 0.4420 - val_accuracy: 0.8212\n",
      "\n",
      "Epoch 00002: val_loss did not improve from 0.39101\n",
      "Epoch 3/5\n",
      "654948/654948 [==============================] - 61s 93us/step - loss: 0.4675 - accuracy: 0.7722 - val_loss: 0.5037 - val_accuracy: 0.7766\n",
      "\n",
      "Epoch 00003: val_loss did not improve from 0.39101\n",
      "Epoch 4/5\n",
      "654948/654948 [==============================] - 61s 93us/step - loss: 0.4697 - accuracy: 0.7712 - val_loss: 0.4418 - val_accuracy: 0.8154\n",
      "\n",
      "Epoch 00004: val_loss did not improve from 0.39101\n",
      "Epoch 5/5\n",
      "654948/654948 [==============================] - 61s 93us/step - loss: 0.4678 - accuracy: 0.7725 - val_loss: 0.4796 - val_accuracy: 0.8029\n",
      "\n",
      "Epoch 00005: val_loss did not improve from 0.39101\n",
      "[[0.94505036 0.03256358 0.00382669 ... 0.03597699 0.01447784 0.00733662]\n",
      " [0.01411022 0.24287733 0.535485   ... 0.4994615  0.26411235 0.67485654]\n",
      " [0.01177757 0.14828765 0.62803704 ... 0.39840922 0.28378958 0.7822042 ]\n",
      " ...\n",
      " [0.20901354 0.61605555 0.01889418 ... 0.6575698  0.02354825 0.02513374]\n",
      " [0.43281272 0.3796458  0.01470024 ... 0.41364995 0.02205198 0.02249121]\n",
      " [0.00615746 0.8483409  0.0453109  ... 0.9127548  0.05500702 0.0531517 ]]\n"
     ]
    }
   ],
   "source": [
    "model.compile(optimizer=keras.optimizers.Adam(lr=0.001),\n",
    "              loss='binary_crossentropy',\n",
    "              metrics=['accuracy'])\n",
    "\n",
    "model.fit(x_train3,y_train3,epochs=5,validation_data=(x_valid3,y_valid3),callbacks=[es,mc,rl]) \n",
    "#model.load_weights(filename)\n",
    "deep_result = model.predict(x_valid3)\n",
    "print(deep_result)"
   ]
  },
  {
   "cell_type": "code",
   "execution_count": 31,
   "metadata": {},
   "outputs": [
    {
     "name": "stderr",
     "output_type": "stream",
     "text": [
      "C:\\Users\\hyowon\\anaconda3\\envs\\SCDC\\lib\\site-packages\\sklearn\\utils\\validation.py:70: FutureWarning: Pass shuffle=True, random_state=0 as keyword args. From version 0.25 passing these as positional arguments will result in an error\n",
      "  FutureWarning)\n"
     ]
    },
    {
     "ename": "KeyboardInterrupt",
     "evalue": "",
     "output_type": "error",
     "traceback": [
      "\u001b[1;31m---------------------------------------------------------------------------\u001b[0m",
      "\u001b[1;31mKeyboardInterrupt\u001b[0m                         Traceback (most recent call last)",
      "\u001b[1;32m<ipython-input-31-4eb7a570845f>\u001b[0m in \u001b[0;36m<module>\u001b[1;34m\u001b[0m\n\u001b[0;32m      5\u001b[0m \u001b[0mmskf\u001b[0m \u001b[1;33m=\u001b[0m \u001b[0mMultilabelStratifiedKFold\u001b[0m\u001b[1;33m(\u001b[0m\u001b[0mn_splits\u001b[0m\u001b[1;33m=\u001b[0m\u001b[1;36m5\u001b[0m\u001b[1;33m,\u001b[0m \u001b[0mshuffle\u001b[0m\u001b[1;33m=\u001b[0m\u001b[1;32mTrue\u001b[0m\u001b[1;33m,\u001b[0m \u001b[0mrandom_state\u001b[0m\u001b[1;33m=\u001b[0m\u001b[1;36m0\u001b[0m\u001b[1;33m)\u001b[0m\u001b[1;33m\u001b[0m\u001b[1;33m\u001b[0m\u001b[0m\n\u001b[0;32m      6\u001b[0m \u001b[1;33m\u001b[0m\u001b[0m\n\u001b[1;32m----> 7\u001b[1;33m \u001b[1;32mfor\u001b[0m \u001b[0mtrain_index\u001b[0m\u001b[1;33m,\u001b[0m \u001b[0mtest_index\u001b[0m \u001b[1;32min\u001b[0m \u001b[0mmskf\u001b[0m\u001b[1;33m.\u001b[0m\u001b[0msplit\u001b[0m\u001b[1;33m(\u001b[0m\u001b[0mx_train3\u001b[0m\u001b[1;33m,\u001b[0m\u001b[0my_train3\u001b[0m\u001b[1;33m)\u001b[0m\u001b[1;33m:\u001b[0m\u001b[1;33m\u001b[0m\u001b[1;33m\u001b[0m\u001b[0m\n\u001b[0m\u001b[0;32m      8\u001b[0m     \u001b[0mprint\u001b[0m\u001b[1;33m(\u001b[0m\u001b[1;34m\"TRAIN:\"\u001b[0m\u001b[1;33m,\u001b[0m \u001b[0mtrain_index\u001b[0m\u001b[1;33m,\u001b[0m \u001b[1;34m\"TEST:\"\u001b[0m\u001b[1;33m,\u001b[0m \u001b[0mtest_index\u001b[0m\u001b[1;33m)\u001b[0m\u001b[1;33m\u001b[0m\u001b[1;33m\u001b[0m\u001b[0m\n\u001b[0;32m      9\u001b[0m     \u001b[0mX_train\u001b[0m\u001b[1;33m,\u001b[0m \u001b[0mX_valid\u001b[0m \u001b[1;33m=\u001b[0m \u001b[0mx_train3\u001b[0m\u001b[1;33m[\u001b[0m\u001b[0mtrain_index\u001b[0m\u001b[1;33m]\u001b[0m\u001b[1;33m,\u001b[0m \u001b[0mx_train3\u001b[0m\u001b[1;33m[\u001b[0m\u001b[0mtest_index\u001b[0m\u001b[1;33m]\u001b[0m\u001b[1;33m\u001b[0m\u001b[1;33m\u001b[0m\u001b[0m\n",
      "\u001b[1;32m~\\anaconda3\\envs\\SCDC\\lib\\site-packages\\sklearn\\model_selection\\_split.py\u001b[0m in \u001b[0;36msplit\u001b[1;34m(self, X, y, groups)\u001b[0m\n\u001b[0;32m    334\u001b[0m                 .format(self.n_splits, n_samples))\n\u001b[0;32m    335\u001b[0m \u001b[1;33m\u001b[0m\u001b[0m\n\u001b[1;32m--> 336\u001b[1;33m         \u001b[1;32mfor\u001b[0m \u001b[0mtrain\u001b[0m\u001b[1;33m,\u001b[0m \u001b[0mtest\u001b[0m \u001b[1;32min\u001b[0m \u001b[0msuper\u001b[0m\u001b[1;33m(\u001b[0m\u001b[1;33m)\u001b[0m\u001b[1;33m.\u001b[0m\u001b[0msplit\u001b[0m\u001b[1;33m(\u001b[0m\u001b[0mX\u001b[0m\u001b[1;33m,\u001b[0m \u001b[0my\u001b[0m\u001b[1;33m,\u001b[0m \u001b[0mgroups\u001b[0m\u001b[1;33m)\u001b[0m\u001b[1;33m:\u001b[0m\u001b[1;33m\u001b[0m\u001b[1;33m\u001b[0m\u001b[0m\n\u001b[0m\u001b[0;32m    337\u001b[0m             \u001b[1;32myield\u001b[0m \u001b[0mtrain\u001b[0m\u001b[1;33m,\u001b[0m \u001b[0mtest\u001b[0m\u001b[1;33m\u001b[0m\u001b[1;33m\u001b[0m\u001b[0m\n\u001b[0;32m    338\u001b[0m \u001b[1;33m\u001b[0m\u001b[0m\n",
      "\u001b[1;32m~\\anaconda3\\envs\\SCDC\\lib\\site-packages\\sklearn\\model_selection\\_split.py\u001b[0m in \u001b[0;36msplit\u001b[1;34m(self, X, y, groups)\u001b[0m\n\u001b[0;32m     78\u001b[0m         \u001b[0mX\u001b[0m\u001b[1;33m,\u001b[0m \u001b[0my\u001b[0m\u001b[1;33m,\u001b[0m \u001b[0mgroups\u001b[0m \u001b[1;33m=\u001b[0m \u001b[0mindexable\u001b[0m\u001b[1;33m(\u001b[0m\u001b[0mX\u001b[0m\u001b[1;33m,\u001b[0m \u001b[0my\u001b[0m\u001b[1;33m,\u001b[0m \u001b[0mgroups\u001b[0m\u001b[1;33m)\u001b[0m\u001b[1;33m\u001b[0m\u001b[1;33m\u001b[0m\u001b[0m\n\u001b[0;32m     79\u001b[0m         \u001b[0mindices\u001b[0m \u001b[1;33m=\u001b[0m \u001b[0mnp\u001b[0m\u001b[1;33m.\u001b[0m\u001b[0marange\u001b[0m\u001b[1;33m(\u001b[0m\u001b[0m_num_samples\u001b[0m\u001b[1;33m(\u001b[0m\u001b[0mX\u001b[0m\u001b[1;33m)\u001b[0m\u001b[1;33m)\u001b[0m\u001b[1;33m\u001b[0m\u001b[1;33m\u001b[0m\u001b[0m\n\u001b[1;32m---> 80\u001b[1;33m         \u001b[1;32mfor\u001b[0m \u001b[0mtest_index\u001b[0m \u001b[1;32min\u001b[0m \u001b[0mself\u001b[0m\u001b[1;33m.\u001b[0m\u001b[0m_iter_test_masks\u001b[0m\u001b[1;33m(\u001b[0m\u001b[0mX\u001b[0m\u001b[1;33m,\u001b[0m \u001b[0my\u001b[0m\u001b[1;33m,\u001b[0m \u001b[0mgroups\u001b[0m\u001b[1;33m)\u001b[0m\u001b[1;33m:\u001b[0m\u001b[1;33m\u001b[0m\u001b[1;33m\u001b[0m\u001b[0m\n\u001b[0m\u001b[0;32m     81\u001b[0m             \u001b[0mtrain_index\u001b[0m \u001b[1;33m=\u001b[0m \u001b[0mindices\u001b[0m\u001b[1;33m[\u001b[0m\u001b[0mnp\u001b[0m\u001b[1;33m.\u001b[0m\u001b[0mlogical_not\u001b[0m\u001b[1;33m(\u001b[0m\u001b[0mtest_index\u001b[0m\u001b[1;33m)\u001b[0m\u001b[1;33m]\u001b[0m\u001b[1;33m\u001b[0m\u001b[1;33m\u001b[0m\u001b[0m\n\u001b[0;32m     82\u001b[0m             \u001b[0mtest_index\u001b[0m \u001b[1;33m=\u001b[0m \u001b[0mindices\u001b[0m\u001b[1;33m[\u001b[0m\u001b[0mtest_index\u001b[0m\u001b[1;33m]\u001b[0m\u001b[1;33m\u001b[0m\u001b[1;33m\u001b[0m\u001b[0m\n",
      "\u001b[1;32m~\\anaconda3\\envs\\SCDC\\lib\\site-packages\\iterstrat\\ml_stratifiers.py\u001b[0m in \u001b[0;36m_iter_test_masks\u001b[1;34m(self, X, y, groups)\u001b[0m\n\u001b[0;32m    181\u001b[0m \u001b[1;33m\u001b[0m\u001b[0m\n\u001b[0;32m    182\u001b[0m     \u001b[1;32mdef\u001b[0m \u001b[0m_iter_test_masks\u001b[0m\u001b[1;33m(\u001b[0m\u001b[0mself\u001b[0m\u001b[1;33m,\u001b[0m \u001b[0mX\u001b[0m\u001b[1;33m=\u001b[0m\u001b[1;32mNone\u001b[0m\u001b[1;33m,\u001b[0m \u001b[0my\u001b[0m\u001b[1;33m=\u001b[0m\u001b[1;32mNone\u001b[0m\u001b[1;33m,\u001b[0m \u001b[0mgroups\u001b[0m\u001b[1;33m=\u001b[0m\u001b[1;32mNone\u001b[0m\u001b[1;33m)\u001b[0m\u001b[1;33m:\u001b[0m\u001b[1;33m\u001b[0m\u001b[1;33m\u001b[0m\u001b[0m\n\u001b[1;32m--> 183\u001b[1;33m         \u001b[0mtest_folds\u001b[0m \u001b[1;33m=\u001b[0m \u001b[0mself\u001b[0m\u001b[1;33m.\u001b[0m\u001b[0m_make_test_folds\u001b[0m\u001b[1;33m(\u001b[0m\u001b[0mX\u001b[0m\u001b[1;33m,\u001b[0m \u001b[0my\u001b[0m\u001b[1;33m)\u001b[0m\u001b[1;33m\u001b[0m\u001b[1;33m\u001b[0m\u001b[0m\n\u001b[0m\u001b[0;32m    184\u001b[0m         \u001b[1;32mfor\u001b[0m \u001b[0mi\u001b[0m \u001b[1;32min\u001b[0m \u001b[0mrange\u001b[0m\u001b[1;33m(\u001b[0m\u001b[0mself\u001b[0m\u001b[1;33m.\u001b[0m\u001b[0mn_splits\u001b[0m\u001b[1;33m)\u001b[0m\u001b[1;33m:\u001b[0m\u001b[1;33m\u001b[0m\u001b[1;33m\u001b[0m\u001b[0m\n\u001b[0;32m    185\u001b[0m             \u001b[1;32myield\u001b[0m \u001b[0mtest_folds\u001b[0m \u001b[1;33m==\u001b[0m \u001b[0mi\u001b[0m\u001b[1;33m\u001b[0m\u001b[1;33m\u001b[0m\u001b[0m\n",
      "\u001b[1;32m~\\anaconda3\\envs\\SCDC\\lib\\site-packages\\iterstrat\\ml_stratifiers.py\u001b[0m in \u001b[0;36m_make_test_folds\u001b[1;34m(self, X, y)\u001b[0m\n\u001b[0;32m    176\u001b[0m         \u001b[0mr\u001b[0m \u001b[1;33m=\u001b[0m \u001b[0mnp\u001b[0m\u001b[1;33m.\u001b[0m\u001b[0masarray\u001b[0m\u001b[1;33m(\u001b[0m\u001b[1;33m[\u001b[0m\u001b[1;36m1\u001b[0m \u001b[1;33m/\u001b[0m \u001b[0mself\u001b[0m\u001b[1;33m.\u001b[0m\u001b[0mn_splits\u001b[0m\u001b[1;33m]\u001b[0m \u001b[1;33m*\u001b[0m \u001b[0mself\u001b[0m\u001b[1;33m.\u001b[0m\u001b[0mn_splits\u001b[0m\u001b[1;33m)\u001b[0m\u001b[1;33m\u001b[0m\u001b[1;33m\u001b[0m\u001b[0m\n\u001b[0;32m    177\u001b[0m \u001b[1;33m\u001b[0m\u001b[0m\n\u001b[1;32m--> 178\u001b[1;33m         \u001b[0mtest_folds\u001b[0m \u001b[1;33m=\u001b[0m \u001b[0mIterativeStratification\u001b[0m\u001b[1;33m(\u001b[0m\u001b[0mlabels\u001b[0m\u001b[1;33m=\u001b[0m\u001b[0my\u001b[0m\u001b[1;33m,\u001b[0m \u001b[0mr\u001b[0m\u001b[1;33m=\u001b[0m\u001b[0mr\u001b[0m\u001b[1;33m,\u001b[0m \u001b[0mrandom_state\u001b[0m\u001b[1;33m=\u001b[0m\u001b[0mrng\u001b[0m\u001b[1;33m)\u001b[0m\u001b[1;33m\u001b[0m\u001b[1;33m\u001b[0m\u001b[0m\n\u001b[0m\u001b[0;32m    179\u001b[0m \u001b[1;33m\u001b[0m\u001b[0m\n\u001b[0;32m    180\u001b[0m         \u001b[1;32mreturn\u001b[0m \u001b[0mtest_folds\u001b[0m\u001b[1;33m[\u001b[0m\u001b[0mnp\u001b[0m\u001b[1;33m.\u001b[0m\u001b[0margsort\u001b[0m\u001b[1;33m(\u001b[0m\u001b[0mindices\u001b[0m\u001b[1;33m)\u001b[0m\u001b[1;33m]\u001b[0m\u001b[1;33m\u001b[0m\u001b[1;33m\u001b[0m\u001b[0m\n",
      "\u001b[1;32m~\\anaconda3\\envs\\SCDC\\lib\\site-packages\\iterstrat\\ml_stratifiers.py\u001b[0m in \u001b[0;36mIterativeStratification\u001b[1;34m(labels, r, random_state)\u001b[0m\n\u001b[0;32m     87\u001b[0m             \u001b[1;31m# of desired examples, breaking further ties randomly\u001b[0m\u001b[1;33m\u001b[0m\u001b[1;33m\u001b[0m\u001b[1;33m\u001b[0m\u001b[0m\n\u001b[0;32m     88\u001b[0m             \u001b[0mlabel_folds\u001b[0m \u001b[1;33m=\u001b[0m \u001b[0mc_folds_labels\u001b[0m\u001b[1;33m[\u001b[0m\u001b[1;33m:\u001b[0m\u001b[1;33m,\u001b[0m \u001b[0mlabel_idx\u001b[0m\u001b[1;33m]\u001b[0m\u001b[1;33m\u001b[0m\u001b[1;33m\u001b[0m\u001b[0m\n\u001b[1;32m---> 89\u001b[1;33m             \u001b[0mfold_idx\u001b[0m \u001b[1;33m=\u001b[0m \u001b[0mnp\u001b[0m\u001b[1;33m.\u001b[0m\u001b[0mwhere\u001b[0m\u001b[1;33m(\u001b[0m\u001b[0mlabel_folds\u001b[0m \u001b[1;33m==\u001b[0m \u001b[0mlabel_folds\u001b[0m\u001b[1;33m.\u001b[0m\u001b[0mmax\u001b[0m\u001b[1;33m(\u001b[0m\u001b[1;33m)\u001b[0m\u001b[1;33m)\u001b[0m\u001b[1;33m[\u001b[0m\u001b[1;36m0\u001b[0m\u001b[1;33m]\u001b[0m\u001b[1;33m\u001b[0m\u001b[1;33m\u001b[0m\u001b[0m\n\u001b[0m\u001b[0;32m     90\u001b[0m \u001b[1;33m\u001b[0m\u001b[0m\n\u001b[0;32m     91\u001b[0m             \u001b[1;32mif\u001b[0m \u001b[0mfold_idx\u001b[0m\u001b[1;33m.\u001b[0m\u001b[0mshape\u001b[0m\u001b[1;33m[\u001b[0m\u001b[1;36m0\u001b[0m\u001b[1;33m]\u001b[0m \u001b[1;33m>\u001b[0m \u001b[1;36m1\u001b[0m\u001b[1;33m:\u001b[0m\u001b[1;33m\u001b[0m\u001b[1;33m\u001b[0m\u001b[0m\n",
      "\u001b[1;32m~\\anaconda3\\envs\\SCDC\\lib\\site-packages\\numpy\\core\\_methods.py\u001b[0m in \u001b[0;36m_amax\u001b[1;34m(a, axis, out, keepdims, initial, where)\u001b[0m\n\u001b[0;32m     37\u001b[0m def _amax(a, axis=None, out=None, keepdims=False,\n\u001b[0;32m     38\u001b[0m           initial=_NoValue, where=True):\n\u001b[1;32m---> 39\u001b[1;33m     \u001b[1;32mreturn\u001b[0m \u001b[0mumr_maximum\u001b[0m\u001b[1;33m(\u001b[0m\u001b[0ma\u001b[0m\u001b[1;33m,\u001b[0m \u001b[0maxis\u001b[0m\u001b[1;33m,\u001b[0m \u001b[1;32mNone\u001b[0m\u001b[1;33m,\u001b[0m \u001b[0mout\u001b[0m\u001b[1;33m,\u001b[0m \u001b[0mkeepdims\u001b[0m\u001b[1;33m,\u001b[0m \u001b[0minitial\u001b[0m\u001b[1;33m,\u001b[0m \u001b[0mwhere\u001b[0m\u001b[1;33m)\u001b[0m\u001b[1;33m\u001b[0m\u001b[1;33m\u001b[0m\u001b[0m\n\u001b[0m\u001b[0;32m     40\u001b[0m \u001b[1;33m\u001b[0m\u001b[0m\n\u001b[0;32m     41\u001b[0m def _amin(a, axis=None, out=None, keepdims=False,\n",
      "\u001b[1;31mKeyboardInterrupt\u001b[0m: "
     ]
    }
   ],
   "source": [
    "model.compile(optimizer=keras.optimizers.Adam(lr=0.001),\n",
    "              loss='binary_crossentropy',\n",
    "              metrics=['accuracy'])\n",
    "\n",
    "mskf = MultilabelStratifiedKFold(n_splits=5, shuffle=True, random_state=0)\n",
    "\n",
    "for train_index, test_index in mskf.split(x_train3,y_train3):\n",
    "    print(\"TRAIN:\", train_index, \"TEST:\", test_index)\n",
    "    X_train, X_valid = x_train3[train_index], x_train3[test_index]\n",
    "    Y_train, Y_valid = y_train3[train_index], y_train3[test_index]\n",
    "    \n",
    "    model.fit(X_train,Y_train,epochs=3,validation_data=(x_valid3,y_valid3),callbacks=[es,mc,rl])\n",
    "    \n",
    "#model.fit(x_train3,y_train3,epochs=1,validation_data=(x_valid3,y_valid3),callbacks=[es,mc,rl]) \n",
    "model.load_weights(filename)\n",
    "deep_result = model.predict(x_valid3)"
   ]
  },
  {
   "cell_type": "code",
   "execution_count": 8,
   "metadata": {},
   "outputs": [],
   "source": [
    "input = keras.layers.Input(shape=(226,))\n",
    "h1 = keras.layers.Dense(226, activation='sigmoid')(input)\n",
    "h2 = keras.layers.Dense(226, activation='sigmoid')(h1)\n",
    "h3 = keras.layers.Dense(226, activation='sigmoid')(h2)\n",
    "h4 = keras.layers.Dense(113, activation='sigmoid')(h3)\n",
    "h5 = keras.layers.Dense(113, activation='sigmoid')(h4)\n",
    "added = keras.layers.Add()([h4, h5])\n",
    "h6 = keras.layers.Dense(113, activation='sigmoid')(added)\n",
    "added2 = keras.layers.Add()([h4, h6])\n",
    "h7 = keras.layers.Dense(113, activation='sigmoid')(added2)\n",
    "added3 = keras.layers.Add()([h4, h7])\n",
    "h8 = keras.layers.Dense(113, activation='sigmoid')(added3)\n",
    "h9 = keras.layers.Dense(113, activation='sigmoid')(h8)\n",
    "out = keras.layers.Dense(11, activation='sigmoid')(h9)\n",
    "\n",
    "model = keras.models.Model(inputs=[input], outputs=out)\n",
    "\n",
    "x_valid3 = np.array(x_valid)\n",
    "\n",
    "model.load_weights(\"0.82_0(model1_no_robust).h5\")\n",
    "deep_result = model.predict(x_valid3)"
   ]
  },
  {
   "cell_type": "code",
   "execution_count": 9,
   "metadata": {},
   "outputs": [],
   "source": [
    "input = keras.layers.Input(shape=(226,))\n",
    "h1 = keras.layers.Dense(226, activation='sigmoid')(input)\n",
    "h2 = keras.layers.Dense(226, activation='sigmoid')(h1)\n",
    "h3 = keras.layers.Dense(226, activation='sigmoid')(h2)\n",
    "#h4 = keras.layers.Dense(113, activation='sigmoid')(h3)\n",
    "#h5 = keras.layers.Dense(113, activation='sigmoid')(h4)\n",
    "#added = keras.layers.Add()([h4, h5])\n",
    "#h6 = keras.layers.Dense(113, activation='sigmoid')(added)\n",
    "#added2 = keras.layers.Add()([h4, h6])\n",
    "#h7 = keras.layers.Dense(113, activation='sigmoid')(added2)\n",
    "#added3 = keras.layers.Add()([h4, h7])\n",
    "#h8 = keras.layers.Dense(113, activation='sigmoid')(added3)\n",
    "#h9 = keras.layers.Dense(113, activation='sigmoid')(h8)\n",
    "out = keras.layers.Dense(11, activation='sigmoid')(h3)\n",
    "\n",
    "model2 = keras.models.Model(inputs=[input], outputs=out)"
   ]
  },
  {
   "cell_type": "code",
   "execution_count": 10,
   "metadata": {},
   "outputs": [],
   "source": [
    "model2.load_weights(\"0.77_78.6(model2_robust).h5\")\n",
    "deep_result2 = model2.predict(x_valid2)"
   ]
  },
  {
   "cell_type": "code",
   "execution_count": 56,
   "metadata": {},
   "outputs": [
    {
     "name": "stdout",
     "output_type": "stream",
     "text": [
      "Train on 654948 samples, validate on 28543 samples\n",
      "Epoch 1/5\n",
      "654948/654948 [==============================] - 43s 66us/step - loss: 0.3958 - accuracy: 0.8125 - val_loss: 0.6925 - val_accuracy: 0.8017\n",
      "\n",
      "Epoch 00001: val_loss did not improve from 0.37189\n",
      "Epoch 2/5\n",
      "654948/654948 [==============================] - 43s 65us/step - loss: 0.3680 - accuracy: 0.8277 - val_loss: 0.8699 - val_accuracy: 0.7958\n",
      "\n",
      "Epoch 00002: val_loss did not improve from 0.37189\n",
      "Epoch 3/5\n",
      "654948/654948 [==============================] - 43s 65us/step - loss: 0.3500 - accuracy: 0.8369 - val_loss: 0.9286 - val_accuracy: 0.7847\n",
      "\n",
      "Epoch 00003: val_loss did not improve from 0.37189\n",
      "Epoch 4/5\n",
      "654948/654948 [==============================] - 44s 68us/step - loss: 0.3371 - accuracy: 0.8432 - val_loss: 0.9551 - val_accuracy: 0.7938\n",
      "\n",
      "Epoch 00004: val_loss did not improve from 0.37189\n",
      "Epoch 5/5\n",
      "654948/654948 [==============================] - 42s 64us/step - loss: 0.3275 - accuracy: 0.8477 - val_loss: 1.0170 - val_accuracy: 0.7736\n",
      "\n",
      "Epoch 00005: val_loss did not improve from 0.37189\n"
     ]
    },
    {
     "data": {
      "text/plain": [
       "<keras.callbacks.callbacks.History at 0x2796ce64648>"
      ]
     },
     "execution_count": 56,
     "metadata": {},
     "output_type": "execute_result"
    }
   ],
   "source": [
    "model2.compile(optimizer=keras.optimizers.Adam(lr=0.001),\n",
    "              loss='binary_crossentropy',\n",
    "              metrics=['accuracy'])\n",
    "\n",
    "model2.fit(x_train3,y_train3,epochs=5,validation_data=(x_valid3,y_valid3),callbacks=[es,mc,rl])"
   ]
  },
  {
   "cell_type": "code",
   "execution_count": 8,
   "metadata": {
    "scrolled": true
   },
   "outputs": [
    {
     "name": "stdout",
     "output_type": "stream",
     "text": [
      "deep_ovr =  0.500725909372428\n"
     ]
    }
   ],
   "source": [
    "deep_result = model.predict(x_valid3)\n",
    "deep_ovr = roc_auc_score(y_valid3,deep_result,multi_class=\"ovr\") # multi_class=\"deep_over, ovo\"\n",
    "print(\"deep_ovr = \", deep_ovr)"
   ]
  },
  {
   "cell_type": "code",
   "execution_count": 10,
   "metadata": {},
   "outputs": [
    {
     "name": "stdout",
     "output_type": "stream",
     "text": [
      "[[0.05822675 0.34009624 0.04850496 0.12315792 0.02290238 0.47186127\n",
      "  0.5508556  0.27122962 0.5981812  0.09425732 0.09624963]]\n"
     ]
    }
   ],
   "source": [
    "p = model.predict(np.array([x_train3[90]]))\n",
    "print(p)"
   ]
  },
  {
   "cell_type": "code",
   "execution_count": 19,
   "metadata": {},
   "outputs": [
    {
     "data": {
      "text/plain": [
       "(226,)"
      ]
     },
     "execution_count": 19,
     "metadata": {},
     "output_type": "execute_result"
    }
   ],
   "source": [
    "x_train3[90].shape"
   ]
  },
  {
   "cell_type": "code",
   "execution_count": 20,
   "metadata": {},
   "outputs": [
    {
     "data": {
      "text/plain": [
       "array([0, 0, 0, 0, 0, 1, 0, 0, 0, 0, 0], dtype=int64)"
      ]
     },
     "execution_count": 20,
     "metadata": {},
     "output_type": "execute_result"
    }
   ],
   "source": [
    "y_train3[90]"
   ]
  },
  {
   "cell_type": "code",
   "execution_count": 10,
   "metadata": {},
   "outputs": [],
   "source": [
    "def refineData(predict):\n",
    "    container = np.zeros((len(predict), 2), dtype=float)\n",
    "    \n",
    "    num = 0\n",
    "    \n",
    "    for i in predict:      \n",
    "        maxValue = 0\n",
    "        count = 0\n",
    "        \n",
    "        \n",
    "        for j in range(11):\n",
    "            if maxValue < i[j]:\n",
    "                maxValue = i[j]\n",
    "                count = j\n",
    "        \n",
    "        container[num][0] = maxValue\n",
    "        container[num][1] = count\n",
    "             \n",
    "        num += 1\n",
    "\n",
    "        \n",
    "    return container"
   ]
  },
  {
   "cell_type": "code",
   "execution_count": 11,
   "metadata": {},
   "outputs": [],
   "source": [
    "def sortConfidence(data):\n",
    "    for i in range(len(data)-1):\n",
    "        \n",
    "        for j in range(len(data)-i):\n",
    "            if data[i][0] < data[i+j][0]:\n",
    "                #print(i, j, data[i], data[i+j])\n",
    "                data[i][0],data[i+j][0] = data[i+j][0],data[i][0]\n",
    "                data[i][1],data[i+j][1] = data[i+j][1],data[i][1]\n",
    "                #print(i, j, data[i], data[i+j])\n",
    "    \n",
    "    return data"
   ]
  },
  {
   "cell_type": "code",
   "execution_count": 12,
   "metadata": {
    "scrolled": true
   },
   "outputs": [
    {
     "name": "stdout",
     "output_type": "stream",
     "text": [
      "[[ 0.94034171  0.        ]\n",
      " [ 0.6014663  10.        ]\n",
      " [ 0.84565324 10.        ]\n",
      " ...\n",
      " [ 0.71933079  0.        ]\n",
      " [ 0.607669    0.        ]\n",
      " [ 0.83592594  8.        ]]\n"
     ]
    },
    {
     "ename": "KeyboardInterrupt",
     "evalue": "",
     "output_type": "error",
     "traceback": [
      "\u001b[1;31m---------------------------------------------------------------------------\u001b[0m",
      "\u001b[1;31mKeyboardInterrupt\u001b[0m                         Traceback (most recent call last)",
      "\u001b[1;32m<ipython-input-12-f0b3c38e67a0>\u001b[0m in \u001b[0;36m<module>\u001b[1;34m\u001b[0m\n\u001b[0;32m      3\u001b[0m \u001b[0mprint\u001b[0m\u001b[1;33m(\u001b[0m\u001b[0mcontainer\u001b[0m\u001b[1;33m)\u001b[0m\u001b[1;33m\u001b[0m\u001b[1;33m\u001b[0m\u001b[0m\n\u001b[0;32m      4\u001b[0m \u001b[1;33m\u001b[0m\u001b[0m\n\u001b[1;32m----> 5\u001b[1;33m \u001b[0msortedData\u001b[0m \u001b[1;33m=\u001b[0m \u001b[0msortConfidence\u001b[0m\u001b[1;33m(\u001b[0m\u001b[0mcontainer\u001b[0m\u001b[1;33m)\u001b[0m\u001b[1;33m\u001b[0m\u001b[1;33m\u001b[0m\u001b[0m\n\u001b[0m\u001b[0;32m      6\u001b[0m \u001b[0mprint\u001b[0m\u001b[1;33m(\u001b[0m\u001b[0msortedData\u001b[0m\u001b[1;33m)\u001b[0m\u001b[1;33m\u001b[0m\u001b[1;33m\u001b[0m\u001b[0m\n",
      "\u001b[1;32m<ipython-input-11-a35754726e5d>\u001b[0m in \u001b[0;36msortConfidence\u001b[1;34m(data)\u001b[0m\n\u001b[0;32m      5\u001b[0m             \u001b[1;32mif\u001b[0m \u001b[0mdata\u001b[0m\u001b[1;33m[\u001b[0m\u001b[0mi\u001b[0m\u001b[1;33m]\u001b[0m\u001b[1;33m[\u001b[0m\u001b[1;36m0\u001b[0m\u001b[1;33m]\u001b[0m \u001b[1;33m<\u001b[0m \u001b[0mdata\u001b[0m\u001b[1;33m[\u001b[0m\u001b[0mi\u001b[0m\u001b[1;33m+\u001b[0m\u001b[0mj\u001b[0m\u001b[1;33m]\u001b[0m\u001b[1;33m[\u001b[0m\u001b[1;36m0\u001b[0m\u001b[1;33m]\u001b[0m\u001b[1;33m:\u001b[0m\u001b[1;33m\u001b[0m\u001b[1;33m\u001b[0m\u001b[0m\n\u001b[0;32m      6\u001b[0m                 \u001b[1;31m#print(i, j, data[i], data[i+j])\u001b[0m\u001b[1;33m\u001b[0m\u001b[1;33m\u001b[0m\u001b[1;33m\u001b[0m\u001b[0m\n\u001b[1;32m----> 7\u001b[1;33m                 \u001b[0mdata\u001b[0m\u001b[1;33m[\u001b[0m\u001b[0mi\u001b[0m\u001b[1;33m]\u001b[0m\u001b[1;33m[\u001b[0m\u001b[1;36m0\u001b[0m\u001b[1;33m]\u001b[0m\u001b[1;33m,\u001b[0m\u001b[0mdata\u001b[0m\u001b[1;33m[\u001b[0m\u001b[0mi\u001b[0m\u001b[1;33m+\u001b[0m\u001b[0mj\u001b[0m\u001b[1;33m]\u001b[0m\u001b[1;33m[\u001b[0m\u001b[1;36m0\u001b[0m\u001b[1;33m]\u001b[0m \u001b[1;33m=\u001b[0m \u001b[0mdata\u001b[0m\u001b[1;33m[\u001b[0m\u001b[0mi\u001b[0m\u001b[1;33m+\u001b[0m\u001b[0mj\u001b[0m\u001b[1;33m]\u001b[0m\u001b[1;33m[\u001b[0m\u001b[1;36m0\u001b[0m\u001b[1;33m]\u001b[0m\u001b[1;33m,\u001b[0m\u001b[0mdata\u001b[0m\u001b[1;33m[\u001b[0m\u001b[0mi\u001b[0m\u001b[1;33m]\u001b[0m\u001b[1;33m[\u001b[0m\u001b[1;36m0\u001b[0m\u001b[1;33m]\u001b[0m\u001b[1;33m\u001b[0m\u001b[1;33m\u001b[0m\u001b[0m\n\u001b[0m\u001b[0;32m      8\u001b[0m                 \u001b[0mdata\u001b[0m\u001b[1;33m[\u001b[0m\u001b[0mi\u001b[0m\u001b[1;33m]\u001b[0m\u001b[1;33m[\u001b[0m\u001b[1;36m1\u001b[0m\u001b[1;33m]\u001b[0m\u001b[1;33m,\u001b[0m\u001b[0mdata\u001b[0m\u001b[1;33m[\u001b[0m\u001b[0mi\u001b[0m\u001b[1;33m+\u001b[0m\u001b[0mj\u001b[0m\u001b[1;33m]\u001b[0m\u001b[1;33m[\u001b[0m\u001b[1;36m1\u001b[0m\u001b[1;33m]\u001b[0m \u001b[1;33m=\u001b[0m \u001b[0mdata\u001b[0m\u001b[1;33m[\u001b[0m\u001b[0mi\u001b[0m\u001b[1;33m+\u001b[0m\u001b[0mj\u001b[0m\u001b[1;33m]\u001b[0m\u001b[1;33m[\u001b[0m\u001b[1;36m1\u001b[0m\u001b[1;33m]\u001b[0m\u001b[1;33m,\u001b[0m\u001b[0mdata\u001b[0m\u001b[1;33m[\u001b[0m\u001b[0mi\u001b[0m\u001b[1;33m]\u001b[0m\u001b[1;33m[\u001b[0m\u001b[1;36m1\u001b[0m\u001b[1;33m]\u001b[0m\u001b[1;33m\u001b[0m\u001b[1;33m\u001b[0m\u001b[0m\n\u001b[0;32m      9\u001b[0m                 \u001b[1;31m#print(i, j, data[i], data[i+j])\u001b[0m\u001b[1;33m\u001b[0m\u001b[1;33m\u001b[0m\u001b[1;33m\u001b[0m\u001b[0m\n",
      "\u001b[1;31mKeyboardInterrupt\u001b[0m: "
     ]
    }
   ],
   "source": [
    "predict_result = model.predict(x_valid)\n",
    "container = refineData(predict_result)\n",
    "print(container)\n",
    "\n",
    "sortedData = sortConfidence(container)\n",
    "print(sortedData)"
   ]
  },
  {
   "cell_type": "code",
   "execution_count": 19,
   "metadata": {},
   "outputs": [],
   "source": [
    "pd.DataFrame(predict_result).to_csv('predict.csv')"
   ]
  },
  {
   "cell_type": "code",
   "execution_count": 13,
   "metadata": {},
   "outputs": [],
   "source": [
    "def arrayCount(top_20):\n",
    "    p_rate = np.zeros(11, dtype=float)\n",
    "    \n",
    "    for i in range(11):\n",
    "        count = 0\n",
    "        for j in top_20:\n",
    "            if j[1] == i:\n",
    "                count += 1\n",
    "                \n",
    "        p_rate[i] = count/len(top_20)\n",
    "        \n",
    "    return p_rate"
   ]
  },
  {
   "cell_type": "code",
   "execution_count": 14,
   "metadata": {},
   "outputs": [],
   "source": [
    "def arrayCount2(y):\n",
    "    real_rate = np.zeros(11, dtype=float)\n",
    "    \n",
    "    for i in range(11):\n",
    "        count = 0\n",
    "        for j in y:\n",
    "            if j[i] == 1:\n",
    "                count += 1\n",
    "                \n",
    "        real_rate[i] = count/len(y)\n",
    "        \n",
    "    return real_rate"
   ]
  },
  {
   "cell_type": "code",
   "execution_count": 15,
   "metadata": {
    "scrolled": true
   },
   "outputs": [
    {
     "name": "stdout",
     "output_type": "stream",
     "text": [
      "(28543, 11)\n",
      "[0.67393056 0.01418912 0.00227727 0.00493992 0.00175174 0.0244193\n",
      " 0.09441895 0.11281225 0.05710682 0.01009004 0.00472971]\n",
      "[0.36607925 0.         0.         0.25169043 0.         0.\n",
      " 0.         0.         0.20579477 0.         0.17643555]\n",
      "[0.2607352  0.21533465 0.25147645 0.36198752 0.21801731 0.26535389\n",
      " 0.26281476 0.25030231 0.37069202 0.1579988  0.3160541 ]\n",
      "[1.44301921 0.         0.         0.         0.         0.\n",
      " 0.         0.         0.48164572 0.         0.        ]\n",
      "LIFT_score =  0.17496953846820215\n"
     ]
    }
   ],
   "source": [
    "top_20_num = int(len(sortedData)*0.2)\n",
    "top_20_Data = sortedData[:top_20_num]\n",
    "p_rate = arrayCount(top_20_Data)\n",
    "\n",
    "real_rate = arrayCount2(y_valid3)\n",
    "real_rate2 = arrayCount(sortedData)\n",
    "real_rate3 = arrayCount2(y_train3)\n",
    "print(y_valid.shape)\n",
    "print(real_rate)\n",
    "print(real_rate2)\n",
    "print(real_rate3)\n",
    "score_array = p_rate / real_rate\n",
    "print(score_array)\n",
    "lift_score = np.sum(score_array)/11\n",
    "print(\"LIFT_score = \", lift_score)"
   ]
  },
  {
   "cell_type": "code",
   "execution_count": 10,
   "metadata": {},
   "outputs": [],
   "source": [
    "def target_score(model_predict, y_valid, test_y, target_class):\n",
    "    y_test=y_valid\n",
    "    y_score=model_predict\n",
    "    len_top20=np.int(np.round(len(model_predict)*0.2))\n",
    "\n",
    "    lw = 2\n",
    "    n_classes = len(target_class)\n",
    "\n",
    "    # Compute ROC curve and ROC area for each class\n",
    "    fpr = dict()\n",
    "    tpr = dict()\n",
    "    roc_auc = dict()\n",
    "    for i in [3,4,7]:\n",
    "        fpr[i], tpr[i], _ = roc_curve(y_test.iloc[:, i], y_score[:, i])\n",
    "        roc_auc[i] = auc(fpr[i], tpr[i])\n",
    "\n",
    "    # Compute micro-average ROC curve and ROC area\n",
    "    fpr[\"micro\"], tpr[\"micro\"], _ = roc_curve(np.array(y_test).ravel(), y_score.ravel())\n",
    "    roc_auc[\"micro\"] = auc(fpr[\"micro\"], tpr[\"micro\"])\n",
    "\n",
    "    # Compute macro-average ROC curve and ROC area\n",
    "\n",
    "    # First aggregate all false positive rates\n",
    "    all_fpr = np.unique(np.concatenate([fpr[i] for i in [3,4,7]]))\n",
    "\n",
    "    # Then interpolate all ROC curves at this points\n",
    "    mean_tpr = np.zeros_like(all_fpr)\n",
    "    for i in [3,4,7]:\n",
    "        mean_tpr += interp(all_fpr, fpr[i], tpr[i])\n",
    "\n",
    "    # Finally average it and compute AUC\n",
    "    mean_tpr /= n_classes\n",
    "\n",
    "    fpr[\"macro\"] = all_fpr\n",
    "    tpr[\"macro\"] = mean_tpr\n",
    "    roc_auc[\"macro\"] = auc(fpr[\"macro\"], tpr[\"macro\"])\n",
    "    \n",
    "    # lift score\n",
    "    top20=pd.DataFrame(model_predict).apply(lambda x: max(x), axis=1).sort_values(ascending=False)[:len_top20]\n",
    "    pred20=np.array(pd.DataFrame(model_predict).iloc[top20.index]).argmax(axis=1)\n",
    "    \n",
    "    target_lift=0\n",
    "    target_lift+=(len(pred20[pred20==3])/len(pred20))/(len(test_y[test_y.iloc[:,3]==1])/len(test_y))\n",
    "    target_lift+=(len(pred20[pred20==4])/len(pred20))/(len(test_y[test_y.iloc[:,4]==1])/len(test_y))\n",
    "    target_lift+=(len(pred20[pred20==7])/len(pred20))/(len(test_y[test_y.iloc[:,7]==1])/len(test_y))\n",
    "    target_lift=target_lift/3\n",
    "    \n",
    "    target_final = (0.7*(target_lift/5)) + (0.3*(roc_auc['micro'] + roc_auc['macro'])/2)\n",
    "    \n",
    "    print(roc_auc)\n",
    "    print('mean(micro, macro)', (roc_auc['micro'] + roc_auc['macro'])/2)\n",
    "    print('target_lift :', target_lift)\n",
    "    print('target_final :', target_final)"
   ]
  },
  {
   "cell_type": "code",
   "execution_count": 14,
   "metadata": {},
   "outputs": [],
   "source": [
    "def target_score(model_predict, y_valid, test_y, target_class):\n",
    "    y_test=y_valid\n",
    "    y_score=model_predict\n",
    "    \n",
    "\n",
    "    lw = 2\n",
    "    n_classes = len(target_class)\n",
    "\n",
    "    # Compute ROC curve and ROC area for each class\n",
    "    fpr = dict()\n",
    "    tpr = dict()\n",
    "    roc_auc = dict()\n",
    "    for i in target_class:\n",
    "        fpr[i], tpr[i], _ = roc_curve(y_test.iloc[:, i], y_score[:, i])\n",
    "        roc_auc[i] = auc(fpr[i], tpr[i])\n",
    "\n",
    "    # Compute micro-average ROC curve and ROC area\n",
    "    fpr[\"micro\"], tpr[\"micro\"], _ = roc_curve(np.array(y_test).ravel(), y_score.ravel())\n",
    "    roc_auc[\"micro\"] = auc(fpr[\"micro\"], tpr[\"micro\"])\n",
    "\n",
    "    # Compute macro-average ROC curve and ROC area\n",
    "\n",
    "    # First aggregate all false positive rates\n",
    "    all_fpr = np.unique(np.concatenate([fpr[i] for i in [3,4,7]]))\n",
    "\n",
    "    # Then interpolate all ROC curves at this points\n",
    "    mean_tpr = np.zeros_like(all_fpr)\n",
    "    for i in target_class:\n",
    "        mean_tpr += interp(all_fpr, fpr[i], tpr[i])\n",
    "\n",
    "    # Finally average it and compute AUC\n",
    "    mean_tpr /= n_classes\n",
    "\n",
    "    fpr[\"macro\"] = all_fpr\n",
    "    tpr[\"macro\"] = mean_tpr\n",
    "    roc_auc[\"macro\"] = auc(fpr[\"macro\"], tpr[\"macro\"])\n",
    "\n",
    "    # lift score\n",
    "    len_top20=np.int(np.round(len(model_predict)*0.2))\n",
    "    top20=pd.DataFrame(model_predict).apply(lambda x: max(x), axis=1).sort_values(ascending=False)[:len_top20]\n",
    "    pred20=np.array(pd.DataFrame(model_predict).iloc[top20.index]).argmax(axis=1)\n",
    "\n",
    "    target_lift=0\n",
    "    for i in target_class:\n",
    "        target_lift+=(len(pred20[pred20==i])/len(pred20))/(len(test_y[test_y.iloc[:,i]==1])/len(test_y))\n",
    "\n",
    "    target_lift=target_lift/len(target_class)\n",
    "\n",
    "    target_final = (0.7*(target_lift/5)) + (0.3*(roc_auc['micro'] + roc_auc['macro'])/2)\n",
    "\n",
    "    print(roc_auc)\n",
    "    print('mean(micro, macro)', (roc_auc['micro'] + roc_auc['macro'])/2)\n",
    "    print('target_lift :', target_lift)\n",
    "    print('target_final :', target_final)"
   ]
  },
  {
   "cell_type": "code",
   "execution_count": 15,
   "metadata": {},
   "outputs": [],
   "source": [
    "def totality_score(model_predict, y_valid, test_y):\n",
    "    auroc_macro=roc_auc_score(np.array(y_valid), model_predict,multi_class=\"ovr\", average= 'macro')\n",
    "    auroc_micro=roc_auc_score(np.array(y_valid), model_predict,multi_class=\"ovr\", average= 'micro')\n",
    "\n",
    "    len_top20=np.int(np.round(len(model_predict)*0.2))\n",
    "\n",
    "    top20=pd.DataFrame(model_predict).apply(lambda x: max(x), axis=1).sort_values(ascending=False)[:len_top20]\n",
    "    pred20=np.array(pd.DataFrame(model_predict).iloc[top20.index]).argmax(axis=1)\n",
    "\n",
    "    lift_score=0\n",
    "    for i in range(11):\n",
    "        lift_score+=(len(pred20[pred20==i])/len(pred20))/(len(test_y[test_y.iloc[:,i]==1])/len(test_y))\n",
    "    lift_score=lift_score/(len(test_y.columns)-1)\n",
    "\n",
    "    final_score_macro = (0.7*(lift_score/5)) + (0.3*auroc_macro)\n",
    "    final_score_micro = (0.7*(lift_score/5)) + (0.3*auroc_micro)\n",
    "\n",
    "    print('auroc_macro :', auroc_macro)\n",
    "    print('auroc_micro :', auroc_micro)\n",
    "    print('lift_score :', lift_score)\n",
    "    print('final_score_micro :', final_score_micro)\n",
    "    print('final_score_macro :', final_score_macro)"
   ]
  },
  {
   "cell_type": "code",
   "execution_count": 16,
   "metadata": {},
   "outputs": [
    {
     "name": "stderr",
     "output_type": "stream",
     "text": [
      "C:\\Users\\hyowon\\anaconda3\\envs\\SCDC\\lib\\site-packages\\ipykernel_launcher.py:29: DeprecationWarning: scipy.interp is deprecated and will be removed in SciPy 2.0.0, use numpy.interp instead\n"
     ]
    },
    {
     "name": "stdout",
     "output_type": "stream",
     "text": [
      "{3: 0.8015098327407769, 4: 0.8595247955638227, 7: 0.7680277031927619, 'micro': 0.7730448514470423, 'macro': 0.809815599470952}\n",
      "mean(micro, macro) 0.7914302254589971\n",
      "target_lift : 3.073070722806303\n",
      "target_final : 0.6676589688305814\n",
      "auroc_macro : 0.8077137524919302\n",
      "auroc_micro : 0.7730448514470423\n",
      "lift_score : 1.6458207156883433\n",
      "final_score_micro : 0.46232835563048075\n",
      "final_score_macro : 0.4727290259439471\n"
     ]
    }
   ],
   "source": [
    "predict_result = model.predict(x_valid)\n",
    "predict_result2 = model2.predict(np.array(x_valid2))\n",
    "predict_result = predict_result*0.35 + predict_result2*0.65\n",
    "target_score(predict_result, y_valid, y_valid, [3,4,7])\n",
    "totality_score(predict_result, y_valid, y_valid)"
   ]
  },
  {
   "cell_type": "code",
   "execution_count": 12,
   "metadata": {},
   "outputs": [],
   "source": [
    "predict_result = model.predict(x_valid)\n",
    "predict_result2 = model2.predict(np.array(x_valid2))\n",
    "\n",
    "predict_result = pd.DataFrame(predict_result)\n",
    "predict_result2 = pd.DataFrame(predict_result2)\n",
    "\n",
    "predict_result.to_csv('predict.csv')\n",
    "predict_result2.to_csv('predict2.csv')"
   ]
  },
  {
   "cell_type": "code",
   "execution_count": 25,
   "metadata": {},
   "outputs": [
    {
     "ename": "IndexError",
     "evalue": "single positional indexer is out-of-bounds",
     "output_type": "error",
     "traceback": [
      "\u001b[1;31m---------------------------------------------------------------------------\u001b[0m",
      "\u001b[1;31mIndexError\u001b[0m                                Traceback (most recent call last)",
      "\u001b[1;32m<ipython-input-25-a12118d3d88f>\u001b[0m in \u001b[0;36m<module>\u001b[1;34m\u001b[0m\n\u001b[0;32m      6\u001b[0m \u001b[0mlift_score\u001b[0m\u001b[1;33m=\u001b[0m\u001b[1;36m0\u001b[0m\u001b[1;33m\u001b[0m\u001b[1;33m\u001b[0m\u001b[0m\n\u001b[0;32m      7\u001b[0m \u001b[1;32mfor\u001b[0m \u001b[0mi\u001b[0m \u001b[1;32min\u001b[0m \u001b[0mrange\u001b[0m\u001b[1;33m(\u001b[0m\u001b[1;36m11\u001b[0m\u001b[1;33m)\u001b[0m\u001b[1;33m:\u001b[0m\u001b[1;33m\u001b[0m\u001b[1;33m\u001b[0m\u001b[0m\n\u001b[1;32m----> 8\u001b[1;33m     \u001b[0mlift_score\u001b[0m\u001b[1;33m+=\u001b[0m\u001b[1;33m(\u001b[0m\u001b[0mlen\u001b[0m\u001b[1;33m(\u001b[0m\u001b[0mensemble_pred20\u001b[0m\u001b[1;33m[\u001b[0m\u001b[0mensemble_pred20\u001b[0m\u001b[1;33m==\u001b[0m\u001b[0mi\u001b[0m\u001b[1;33m]\u001b[0m\u001b[1;33m)\u001b[0m\u001b[1;33m/\u001b[0m\u001b[0mlen\u001b[0m\u001b[1;33m(\u001b[0m\u001b[0mensemble_pred20\u001b[0m\u001b[1;33m)\u001b[0m\u001b[1;33m)\u001b[0m\u001b[1;33m/\u001b[0m\u001b[1;33m(\u001b[0m\u001b[0mlen\u001b[0m\u001b[1;33m(\u001b[0m\u001b[0my_valid\u001b[0m\u001b[1;33m[\u001b[0m\u001b[0my_valid\u001b[0m\u001b[1;33m.\u001b[0m\u001b[0miloc\u001b[0m\u001b[1;33m[\u001b[0m\u001b[1;33m:\u001b[0m\u001b[1;33m,\u001b[0m\u001b[0mi\u001b[0m\u001b[1;33m+\u001b[0m\u001b[1;36m1\u001b[0m\u001b[1;33m]\u001b[0m\u001b[1;33m==\u001b[0m\u001b[1;36m1\u001b[0m\u001b[1;33m]\u001b[0m\u001b[1;33m)\u001b[0m\u001b[1;33m/\u001b[0m\u001b[0mlen\u001b[0m\u001b[1;33m(\u001b[0m\u001b[0my_valid\u001b[0m\u001b[1;33m)\u001b[0m\u001b[1;33m)\u001b[0m\u001b[1;33m\u001b[0m\u001b[1;33m\u001b[0m\u001b[0m\n\u001b[0m\u001b[0;32m      9\u001b[0m \u001b[0mlift_score\u001b[0m\u001b[1;33m=\u001b[0m\u001b[0mlift_score\u001b[0m\u001b[1;33m/\u001b[0m\u001b[1;33m(\u001b[0m\u001b[0mlen\u001b[0m\u001b[1;33m(\u001b[0m\u001b[0my_valid3\u001b[0m\u001b[1;33m.\u001b[0m\u001b[0mcolumns\u001b[0m\u001b[1;33m)\u001b[0m\u001b[1;33m-\u001b[0m\u001b[1;36m1\u001b[0m\u001b[1;33m)\u001b[0m\u001b[1;33m\u001b[0m\u001b[1;33m\u001b[0m\u001b[0m\n\u001b[0;32m     10\u001b[0m \u001b[0mlift_score\u001b[0m\u001b[1;33m\u001b[0m\u001b[1;33m\u001b[0m\u001b[0m\n",
      "\u001b[1;32m~\\anaconda3\\envs\\SCDC2\\lib\\site-packages\\pandas\\core\\indexing.py\u001b[0m in \u001b[0;36m__getitem__\u001b[1;34m(self, key)\u001b[0m\n\u001b[0;32m   1416\u001b[0m                 \u001b[1;32mexcept\u001b[0m \u001b[1;33m(\u001b[0m\u001b[0mKeyError\u001b[0m\u001b[1;33m,\u001b[0m \u001b[0mIndexError\u001b[0m\u001b[1;33m,\u001b[0m \u001b[0mAttributeError\u001b[0m\u001b[1;33m)\u001b[0m\u001b[1;33m:\u001b[0m\u001b[1;33m\u001b[0m\u001b[1;33m\u001b[0m\u001b[0m\n\u001b[0;32m   1417\u001b[0m                     \u001b[1;32mpass\u001b[0m\u001b[1;33m\u001b[0m\u001b[1;33m\u001b[0m\u001b[0m\n\u001b[1;32m-> 1418\u001b[1;33m             \u001b[1;32mreturn\u001b[0m \u001b[0mself\u001b[0m\u001b[1;33m.\u001b[0m\u001b[0m_getitem_tuple\u001b[0m\u001b[1;33m(\u001b[0m\u001b[0mkey\u001b[0m\u001b[1;33m)\u001b[0m\u001b[1;33m\u001b[0m\u001b[1;33m\u001b[0m\u001b[0m\n\u001b[0m\u001b[0;32m   1419\u001b[0m         \u001b[1;32melse\u001b[0m\u001b[1;33m:\u001b[0m\u001b[1;33m\u001b[0m\u001b[1;33m\u001b[0m\u001b[0m\n\u001b[0;32m   1420\u001b[0m             \u001b[1;31m# we by definition only have the 0th axis\u001b[0m\u001b[1;33m\u001b[0m\u001b[1;33m\u001b[0m\u001b[1;33m\u001b[0m\u001b[0m\n",
      "\u001b[1;32m~\\anaconda3\\envs\\SCDC2\\lib\\site-packages\\pandas\\core\\indexing.py\u001b[0m in \u001b[0;36m_getitem_tuple\u001b[1;34m(self, tup)\u001b[0m\n\u001b[0;32m   2090\u001b[0m     \u001b[1;32mdef\u001b[0m \u001b[0m_getitem_tuple\u001b[0m\u001b[1;33m(\u001b[0m\u001b[0mself\u001b[0m\u001b[1;33m,\u001b[0m \u001b[0mtup\u001b[0m\u001b[1;33m)\u001b[0m\u001b[1;33m:\u001b[0m\u001b[1;33m\u001b[0m\u001b[1;33m\u001b[0m\u001b[0m\n\u001b[0;32m   2091\u001b[0m \u001b[1;33m\u001b[0m\u001b[0m\n\u001b[1;32m-> 2092\u001b[1;33m         \u001b[0mself\u001b[0m\u001b[1;33m.\u001b[0m\u001b[0m_has_valid_tuple\u001b[0m\u001b[1;33m(\u001b[0m\u001b[0mtup\u001b[0m\u001b[1;33m)\u001b[0m\u001b[1;33m\u001b[0m\u001b[1;33m\u001b[0m\u001b[0m\n\u001b[0m\u001b[0;32m   2093\u001b[0m         \u001b[1;32mtry\u001b[0m\u001b[1;33m:\u001b[0m\u001b[1;33m\u001b[0m\u001b[1;33m\u001b[0m\u001b[0m\n\u001b[0;32m   2094\u001b[0m             \u001b[1;32mreturn\u001b[0m \u001b[0mself\u001b[0m\u001b[1;33m.\u001b[0m\u001b[0m_getitem_lowerdim\u001b[0m\u001b[1;33m(\u001b[0m\u001b[0mtup\u001b[0m\u001b[1;33m)\u001b[0m\u001b[1;33m\u001b[0m\u001b[1;33m\u001b[0m\u001b[0m\n",
      "\u001b[1;32m~\\anaconda3\\envs\\SCDC2\\lib\\site-packages\\pandas\\core\\indexing.py\u001b[0m in \u001b[0;36m_has_valid_tuple\u001b[1;34m(self, key)\u001b[0m\n\u001b[0;32m    233\u001b[0m                 \u001b[1;32mraise\u001b[0m \u001b[0mIndexingError\u001b[0m\u001b[1;33m(\u001b[0m\u001b[1;34m\"Too many indexers\"\u001b[0m\u001b[1;33m)\u001b[0m\u001b[1;33m\u001b[0m\u001b[1;33m\u001b[0m\u001b[0m\n\u001b[0;32m    234\u001b[0m             \u001b[1;32mtry\u001b[0m\u001b[1;33m:\u001b[0m\u001b[1;33m\u001b[0m\u001b[1;33m\u001b[0m\u001b[0m\n\u001b[1;32m--> 235\u001b[1;33m                 \u001b[0mself\u001b[0m\u001b[1;33m.\u001b[0m\u001b[0m_validate_key\u001b[0m\u001b[1;33m(\u001b[0m\u001b[0mk\u001b[0m\u001b[1;33m,\u001b[0m \u001b[0mi\u001b[0m\u001b[1;33m)\u001b[0m\u001b[1;33m\u001b[0m\u001b[1;33m\u001b[0m\u001b[0m\n\u001b[0m\u001b[0;32m    236\u001b[0m             \u001b[1;32mexcept\u001b[0m \u001b[0mValueError\u001b[0m\u001b[1;33m:\u001b[0m\u001b[1;33m\u001b[0m\u001b[1;33m\u001b[0m\u001b[0m\n\u001b[0;32m    237\u001b[0m                 raise ValueError(\n",
      "\u001b[1;32m~\\anaconda3\\envs\\SCDC2\\lib\\site-packages\\pandas\\core\\indexing.py\u001b[0m in \u001b[0;36m_validate_key\u001b[1;34m(self, key, axis)\u001b[0m\n\u001b[0;32m   2012\u001b[0m             \u001b[1;32mreturn\u001b[0m\u001b[1;33m\u001b[0m\u001b[1;33m\u001b[0m\u001b[0m\n\u001b[0;32m   2013\u001b[0m         \u001b[1;32melif\u001b[0m \u001b[0mis_integer\u001b[0m\u001b[1;33m(\u001b[0m\u001b[0mkey\u001b[0m\u001b[1;33m)\u001b[0m\u001b[1;33m:\u001b[0m\u001b[1;33m\u001b[0m\u001b[1;33m\u001b[0m\u001b[0m\n\u001b[1;32m-> 2014\u001b[1;33m             \u001b[0mself\u001b[0m\u001b[1;33m.\u001b[0m\u001b[0m_validate_integer\u001b[0m\u001b[1;33m(\u001b[0m\u001b[0mkey\u001b[0m\u001b[1;33m,\u001b[0m \u001b[0maxis\u001b[0m\u001b[1;33m)\u001b[0m\u001b[1;33m\u001b[0m\u001b[1;33m\u001b[0m\u001b[0m\n\u001b[0m\u001b[0;32m   2015\u001b[0m         \u001b[1;32melif\u001b[0m \u001b[0misinstance\u001b[0m\u001b[1;33m(\u001b[0m\u001b[0mkey\u001b[0m\u001b[1;33m,\u001b[0m \u001b[0mtuple\u001b[0m\u001b[1;33m)\u001b[0m\u001b[1;33m:\u001b[0m\u001b[1;33m\u001b[0m\u001b[1;33m\u001b[0m\u001b[0m\n\u001b[0;32m   2016\u001b[0m             \u001b[1;31m# a tuple should already have been caught by this point\u001b[0m\u001b[1;33m\u001b[0m\u001b[1;33m\u001b[0m\u001b[1;33m\u001b[0m\u001b[0m\n",
      "\u001b[1;32m~\\anaconda3\\envs\\SCDC2\\lib\\site-packages\\pandas\\core\\indexing.py\u001b[0m in \u001b[0;36m_validate_integer\u001b[1;34m(self, key, axis)\u001b[0m\n\u001b[0;32m   2086\u001b[0m         \u001b[0mlen_axis\u001b[0m \u001b[1;33m=\u001b[0m \u001b[0mlen\u001b[0m\u001b[1;33m(\u001b[0m\u001b[0mself\u001b[0m\u001b[1;33m.\u001b[0m\u001b[0mobj\u001b[0m\u001b[1;33m.\u001b[0m\u001b[0m_get_axis\u001b[0m\u001b[1;33m(\u001b[0m\u001b[0maxis\u001b[0m\u001b[1;33m)\u001b[0m\u001b[1;33m)\u001b[0m\u001b[1;33m\u001b[0m\u001b[1;33m\u001b[0m\u001b[0m\n\u001b[0;32m   2087\u001b[0m         \u001b[1;32mif\u001b[0m \u001b[0mkey\u001b[0m \u001b[1;33m>=\u001b[0m \u001b[0mlen_axis\u001b[0m \u001b[1;32mor\u001b[0m \u001b[0mkey\u001b[0m \u001b[1;33m<\u001b[0m \u001b[1;33m-\u001b[0m\u001b[0mlen_axis\u001b[0m\u001b[1;33m:\u001b[0m\u001b[1;33m\u001b[0m\u001b[1;33m\u001b[0m\u001b[0m\n\u001b[1;32m-> 2088\u001b[1;33m             \u001b[1;32mraise\u001b[0m \u001b[0mIndexError\u001b[0m\u001b[1;33m(\u001b[0m\u001b[1;34m\"single positional indexer is out-of-bounds\"\u001b[0m\u001b[1;33m)\u001b[0m\u001b[1;33m\u001b[0m\u001b[1;33m\u001b[0m\u001b[0m\n\u001b[0m\u001b[0;32m   2089\u001b[0m \u001b[1;33m\u001b[0m\u001b[0m\n\u001b[0;32m   2090\u001b[0m     \u001b[1;32mdef\u001b[0m \u001b[0m_getitem_tuple\u001b[0m\u001b[1;33m(\u001b[0m\u001b[0mself\u001b[0m\u001b[1;33m,\u001b[0m \u001b[0mtup\u001b[0m\u001b[1;33m)\u001b[0m\u001b[1;33m:\u001b[0m\u001b[1;33m\u001b[0m\u001b[1;33m\u001b[0m\u001b[0m\n",
      "\u001b[1;31mIndexError\u001b[0m: single positional indexer is out-of-bounds"
     ]
    }
   ],
   "source": [
    "len_top20=np.int(np.round(len(predict_result)*0.2))\n",
    "\n",
    "ensemble_top20=pd.DataFrame(predict_result).apply(lambda x: max(x), axis=1).sort_values(ascending=False)[:len_top20]\n",
    "ensemble_pred20=np.array(pd.DataFrame(predict_result).iloc[ensemble_top20.index]).argmax(axis=1)\n",
    "\n",
    "lift_score=0\n",
    "for i in range(11):\n",
    "    lift_score+=(len(ensemble_pred20[ensemble_pred20==i])/len(ensemble_pred20))/(len(y_valid[y_valid.iloc[:,i+1]==1])/len(y_valid))\n",
    "lift_score=lift_score/(len(y_valid3.columns)-1)\n",
    "lift_score"
   ]
  },
  {
   "cell_type": "code",
   "execution_count": null,
   "metadata": {},
   "outputs": [],
   "source": []
  }
 ],
 "metadata": {
  "kernelspec": {
   "display_name": "SCDC",
   "language": "python",
   "name": "scdc"
  },
  "language_info": {
   "codemirror_mode": {
    "name": "ipython",
    "version": 3
   },
   "file_extension": ".py",
   "mimetype": "text/x-python",
   "name": "python",
   "nbconvert_exporter": "python",
   "pygments_lexer": "ipython3",
   "version": "3.7.9"
  }
 },
 "nbformat": 4,
 "nbformat_minor": 4
}
